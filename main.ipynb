{
  "nbformat": 4,
  "nbformat_minor": 0,
  "metadata": {
    "colab": {
      "provenance": [],
      "authorship_tag": "ABX9TyMzKn9eORHt22Rmwsr1OyJT",
      "include_colab_link": true
    },
    "kernelspec": {
      "name": "python3",
      "display_name": "Python 3"
    },
    "language_info": {
      "name": "python"
    }
  },
  "cells": [
    {
      "cell_type": "markdown",
      "metadata": {
        "id": "view-in-github",
        "colab_type": "text"
      },
      "source": [
        "<a href=\"https://colab.research.google.com/github/Igor-Daudt/Manim_jupiter_networks/blob/main/main.ipynb\" target=\"_parent\"><img src=\"https://colab.research.google.com/assets/colab-badge.svg\" alt=\"Open In Colab\"/></a>"
      ]
    },
    {
      "cell_type": "code",
      "execution_count": null,
      "metadata": {
        "id": "hPVfgg_sHEZU"
      },
      "outputs": [],
      "source": [
        "from manim import *\n",
        "from pandas import read_csv\n",
        "from math import floor\n",
        "from random import sample, random"
      ]
    },
    {
      "cell_type": "code",
      "source": [
        "\n",
        "class DataMatrix(VGroup):\n",
        "    def __init__(\n",
        "        self,\n",
        "        data,\n",
        "        num_rows,\n",
        "        cell_width = 1.0,\n",
        "        cell_height = 1.0,\n",
        "        rows_margin = 0.0,\n",
        "        cols_margin = 0.0,\n",
        "        stroke_width = 2.0,\n",
        "        font_size = 24,\n",
        "        font_type = \"Century\",\n",
        "        color_mode = False,\n",
        "        **kwargs\n",
        "    ):\n",
        "        super().__init__(**kwargs)\n",
        "\n",
        "        self.num_rows, self.num_cols = num_rows, int(len(data) / num_rows)\n",
        "        self.cell_width = cell_width\n",
        "        self.cell_height = cell_height\n",
        "        self.rows_margin = rows_margin\n",
        "        self.cols_margin = cols_margin\n",
        "        self.font_size = font_size\n",
        "        self.font_type = font_type\n",
        "        self.matrix_data = data.copy()\n",
        "        self.stroke_width = stroke_width\n",
        "        self.color_mode = color_mode\n",
        "\n",
        "        self.build_matrix()\n",
        "\n",
        "    def build_matrix(self):\n",
        "        self.submobjects.clear()\n",
        "\n",
        "        for i in range(self.num_rows):\n",
        "            row = VGroup()\n",
        "            for j in range(self.num_cols):\n",
        "                row.add(Rectangle(\n",
        "                    width = self.cell_width,\n",
        "                    height = self.cell_height,\n",
        "                    stroke_color = WHITE\n",
        "                ).set_stroke(width = self.stroke_width))\n",
        "\n",
        "                if self.color_mode:\n",
        "                    row[j].set_fill(color = WHITE, opacity = self.matrix_data[i * self.num_cols + j])\n",
        "                else:\n",
        "                    row[j].add(Text(text = self.matrix_data[i * self.num_cols + j], font = self.font_type, font_size = self.font_size))\n",
        "\n",
        "            row.arrange(RIGHT, buff = self.cols_margin)\n",
        "            self.add(row)\n",
        "\n",
        "        self.arrange(DOWN, buff = self.rows_margin)\n",
        "        self.move_to(ORIGIN)\n",
        "\n",
        "    def set_text_mode(self):\n",
        "        self.color_mode = False\n",
        "        self.build_matrix()\n",
        "\n",
        "    def set_color_mode(self):\n",
        "        self.color_mode = True\n",
        "        self.build_matrix()\n",
        "\n",
        "    def update_data(self, new_data):\n",
        "        self.matrix_data = new_data\n",
        "        self.build_matrix()"
      ],
      "metadata": {
        "id": "ES-fuTuvNnTY"
      },
      "execution_count": null,
      "outputs": []
    },
    {
      "cell_type": "code",
      "source": [
        "def create_colored_neuron(radius_lenght = 1.0, color = BLUE, fill_color = WHITE, opacity = 0):\n",
        "    return Circle(radius = radius_lenght, color = color).set_fill(color = fill_color, opacity = opacity)\n",
        "\n",
        "def create_rectangle_with_text(text, font_type, font_size, side_length = 2.0, func_square = lambda x: x, func_text = lambda x: x):\n",
        "    sq = Square(side_length = side_length)\n",
        "    func_square(sq)\n",
        "\n",
        "    text = Text(text = text, font=font_type, font_size = font_size)\n",
        "    func_text(text)\n",
        "\n",
        "    sq.add(text)\n",
        "    return sq\n",
        "\n",
        "def normalize_values(listRGB):\n",
        "    return list(map(lambda x: round(x / 255, 1), listRGB))\n",
        "\n",
        "def format_values(list_numbers, simplify = True):\n",
        "    return list(map(lambda x: format_value(x, simplify), list_numbers))\n",
        "\n",
        "def format_value(number, simplify):\n",
        "    out = \"\"\n",
        "    if number == 0:\n",
        "        return \"0\"\n",
        "    elif number == 1:\n",
        "        return \"1\"\n",
        "    elif simplify:\n",
        "        out = str(number).replace(\"0.\", \"\")\n",
        "    else:\n",
        "        out = str(number).replace(\".\", \"\")\n",
        "    return f\",{out}\"\n",
        "\n",
        "def sucession_animations(animation, object_list, delay):\n",
        "    current_delay = 0\n",
        "    sucessions_functions = list()\n",
        "    for obj in object_list:\n",
        "        sucessions_functions.append(Succession(\n",
        "            Wait(current_delay),\n",
        "            animation(obj)))\n",
        "        current_delay += delay\n",
        "    return sucessions_functions\n",
        "\n",
        "def add_intervals(animations, delay = 0.5):\n",
        "    output = []\n",
        "    for anim in animations:\n",
        "        output.append(Succession(\n",
        "          anim,\n",
        "          Wait(delay)))\n",
        "    return output\n",
        "\n",
        "def create_arranged_group(labels, mobject, direction = DOWN, **kwargs):\n",
        "    return VGroup(mobject(i, **kwargs) for i in labels).arrange(direction)\n",
        "\n",
        "# create_groups_connection: Each object of group 2 is connected to every object from group1\n",
        "def create_groups_connection(group1, group2, func_reference1, func_reference2, **kwargs):\n",
        "    output = VGroup()\n",
        "    for i in group2:\n",
        "        for j in group1:\n",
        "            output.add(Line(func_reference1(j), func_reference2(i), **kwargs))\n",
        "\n",
        "def animate_half_lines(lines, line_width = 2, run_time= 1.5, animation_time = 1):\n",
        "    selected = sample(list(lines), k=len(lines)//2)\n",
        "\n",
        "    animations = []\n",
        "    for line in selected:\n",
        "        highlight = line.copy()\n",
        "        highlight.set_stroke(color=BLUE, width=line_width)\n",
        "\n",
        "        anim = ShowPassingFlash(\n",
        "            highlight,\n",
        "            time_width=animation_time,\n",
        "            run_time=run_time,\n",
        "            rate_func = linear\n",
        "        )\n",
        "        animations.append(anim)\n",
        "\n",
        "    return animations\n",
        "\n",
        "def animate_neurons(circles, run_time = 1.5):\n",
        "    animations = []\n",
        "    for i in range(len(circles)):\n",
        "        activation = pow(random(), 2)\n",
        "        activated_circle = circles[i].copy()\n",
        "        activated_circle.set_fill(color = WHITE, opacity = activation)\n",
        "\n",
        "        animations.append(Transform(circles[i], activated_circle, run_time = run_time))\n",
        "\n",
        "    return animations\n",
        "\n",
        "def animate_output(circles, label, run_time = 1.5):\n",
        "    animations = []\n",
        "    for i in range(len(circles)):\n",
        "        if i == label:\n",
        "            activation = 1 - random() / 5\n",
        "        else:\n",
        "            activation = random() / 6\n",
        "        activated_circle = circles[label].copy()\n",
        "        activated_circle.set_fill(color = WHITE, opacity = activation)\n",
        "\n",
        "        animations.append(Transform(circles[i], activated_circle, run_time = run_time))\n",
        "\n",
        "    return animations\n",
        "\n",
        "\n"
      ],
      "metadata": {
        "id": "mj3JFwu5MTQ2"
      },
      "execution_count": null,
      "outputs": []
    },
    {
      "cell_type": "code",
      "source": [
        "# Global variables to control the view\n",
        "FONT_SIZE_TITLE = 46\n",
        "FONT_TYPE = \"Go\" # Century\n",
        "NUM_ROWS_MNIST = 28 # 28\n",
        "NUM_COLUMNS_MNIST = 28 # 28\n",
        "\n",
        "\n",
        "# Variables to control the logic\n",
        "csv_file = read_csv(\"sample_data/mnist_test.csv\", header = None)\n",
        "labels = csv_file.iloc[:10, 0].values.tolist()\n",
        "images = csv_file.iloc[:10, 1:].values.tolist()\n",
        "\n",
        "pixels_normalized = [normalize_values(i) for i in images]\n",
        "format_pixels_values = [format_values(i) for i in pixels_normalized]"
      ],
      "metadata": {
        "id": "9haaOBvuMeNp"
      },
      "execution_count": null,
      "outputs": []
    },
    {
      "cell_type": "code",
      "source": [
        "%%manim NeuralNetwork\n",
        "\n",
        "# Layers Constants\n",
        "NUM_INPUTS_REPRESENTATIVE = 14\n",
        "PERCEPTRONS_HIDDEN_LAYER1 = 8\n",
        "PERCEPTRONS_HIDDEN_LAYER2 = 8\n",
        "NUM_OUTPUTS = 10\n",
        "INPUT_SIDE_SIZE = 0.3\n",
        "INPUT_FONT_SIZE = 18\n",
        "RADIUS_NEURONS = 0.25\n",
        "STROKE_WEIGHT = 1\n",
        "PADDING_SURROUNDING_BOXES = 0.2\n",
        "LABELS_FONT_LAYERS = 20\n",
        "COLOR_NEURONS = BLUE\n",
        "COLOR_WEIGHT = WHITE\n",
        "MARGIN_LEFT = 2\n",
        "MARGIN_BETWEEN_LAYERS = 1.2\n",
        "MARGIN_EXAMPLE_INPUT = 0.2\n",
        "DISTANCE_BETWEEN_NEURONS = 0.15\n",
        "\n",
        "SIZE_MNIST_EXAMPLE_SIDE = 0.05\n",
        "\n",
        "class NeuralNetwork(Scene):\n",
        "    def construct(self):\n",
        "        # Layers Variables\n",
        "        input_layer = VGroup()\n",
        "        weights_hidden1= VGroup()\n",
        "        hidden_layer1 = VGroup(create_colored_neuron(radius_lenght = RADIUS_NEURONS, color = COLOR_NEURONS) for i in range(PERCEPTRONS_HIDDEN_LAYER1)).arrange(DOWN, buff = DISTANCE_BETWEEN_NEURONS)\n",
        "        weights_hidden2 = VGroup()\n",
        "        hidden_layer2 = VGroup(create_colored_neuron(radius_lenght = RADIUS_NEURONS, color = COLOR_NEURONS) for i in range(PERCEPTRONS_HIDDEN_LAYER2)).arrange(DOWN, buff = DISTANCE_BETWEEN_NEURONS)\n",
        "        weights_output = VGroup()\n",
        "        output_layer = VGroup(create_colored_neuron(radius_lenght = RADIUS_NEURONS, color = COLOR_NEURONS) for i in range(NUM_OUTPUTS)).arrange(DOWN, buff = DISTANCE_BETWEEN_NEURONS)\n",
        "\n",
        "        for i in range(NUM_INPUTS_REPRESENTATIVE):\n",
        "            input_layer.add(create_rectangle_with_text(format_pixels_values[0][i], font_type = FONT_TYPE, font_size = INPUT_FONT_SIZE, side_length = INPUT_SIDE_SIZE))\n",
        "\n",
        "            if floor(NUM_INPUTS_REPRESENTATIVE / 2) == i:\n",
        "                input_layer[i] = MathTex(r\"\\vdots\").scale(1.2)\n",
        "\n",
        "        # Positioning layers\n",
        "        input_layer.arrange(DOWN, buff = DISTANCE_BETWEEN_NEURONS).move_to(ORIGIN).to_edge(LEFT, buff = MARGIN_LEFT)\n",
        "        hidden_layer1.next_to(input_layer,   RIGHT,  buff = MARGIN_BETWEEN_LAYERS)\n",
        "        hidden_layer2.next_to(hidden_layer1, RIGHT,  buff = MARGIN_BETWEEN_LAYERS)\n",
        "        output_layer.next_to(hidden_layer2,  RIGHT,  buff = MARGIN_BETWEEN_LAYERS)\n",
        "\n",
        "        weights_hidden1.add(Line(j.get_right(), hidden_layer1[i].get_left(), color = COLOR_WEIGHT, stroke_width = STROKE_WEIGHT) for j in input_layer for i in range(PERCEPTRONS_HIDDEN_LAYER1))\n",
        "        weights_hidden2.add(Line(j.get_right(), hidden_layer2[i].get_left(), color = COLOR_WEIGHT, stroke_width = STROKE_WEIGHT) for j in hidden_layer1 for i in range(PERCEPTRONS_HIDDEN_LAYER2))\n",
        "        weights_output.add(Line(j.get_right(), output_layer[i].get_left(), color = COLOR_WEIGHT, stroke_width = STROKE_WEIGHT) for j in hidden_layer2 for i in range(NUM_OUTPUTS))\n",
        "\n",
        "        # Samples constants\n",
        "        matrix_squares_colored = DataMatrix(data = pixels_normalized[1], num_rows = NUM_ROWS_MNIST, cell_width = SIZE_MNIST_EXAMPLE_SIDE, cell_height = SIZE_MNIST_EXAMPLE_SIDE, stroke_width = 0.5, color_mode = True).next_to(input_layer, LEFT, buff = MARGIN_EXAMPLE_INPUT)\n",
        "\n",
        "        self.play(FadeIn(input_layer))\n",
        "        self.play(AnimationGroup(sucession_animations(FadeIn, [hidden_layer1, hidden_layer2, output_layer], 0.2)))\n",
        "        self.play(Create(weights_hidden1))\n",
        "        self.play(Create(weights_hidden2))\n",
        "        self.play(Create(weights_output))\n",
        "        self.wait(1)\n",
        "\n",
        "        box_input_layer = Rectangle(height = input_layer.get_top()[1] - input_layer.get_bottom()[1] + PADDING_SURROUNDING_BOXES, width = input_layer.get_right()[0] - input_layer.get_left()[0] + PADDING_SURROUNDING_BOXES).set_stroke(WHITE, width = 2).move_to(input_layer)\n",
        "        text_input_layer = MarkupText(\"Camada de Entrada\", font_size = LABELS_FONT_LAYERS, font = FONT_TYPE).next_to(box_input_layer, direction = UP, buff = 0.2)\n",
        "\n",
        "        box_hidden_layers = Rectangle(height = hidden_layer1.get_top()[1] - hidden_layer1.get_bottom()[1] + PADDING_SURROUNDING_BOXES, width = hidden_layer2.get_right()[0] - hidden_layer1.get_left()[0] + PADDING_SURROUNDING_BOXES).set_stroke(WHITE, width = 2).move_to((hidden_layer1.get_corner(UL) + hidden_layer2.get_corner(DR)) / 2)\n",
        "        text_hidden_layer = MarkupText(\"Camadas Ocultas\", font_size = LABELS_FONT_LAYERS, font = FONT_TYPE).next_to(box_hidden_layers, direction = UP, buff = 0.2)\n",
        "\n",
        "        box_output_layer = Rectangle(height = output_layer.get_top()[1] - output_layer.get_bottom()[1] + PADDING_SURROUNDING_BOXES, width = output_layer.get_right()[0] - output_layer.get_left()[0] + PADDING_SURROUNDING_BOXES).set_stroke(WHITE, width = 2).move_to(output_layer)\n",
        "        text_output_layer = MarkupText(\"Camada de Saída\", font_size = LABELS_FONT_LAYERS, font = FONT_TYPE).next_to(box_output_layer, direction = UP, buff = 0.2)\n",
        "\n",
        "        #self.play(DrawBorderThenFill(box_input_layer), FadeIn(text_input_layer))\n",
        "        #self.play(DrawBorderThenFill(box_hidden_layers), FadeIn(text_hidden_layer))\n",
        "        #self.play(DrawBorderThenFill(box_output_layer), FadeIn(text_output_layer))\n",
        "\n",
        "        #self.play(FadeOut(box_input_layer), FadeOut(text_input_layer), FadeOut(box_hidden_layers), FadeOut(text_hidden_layer), FadeOut(box_output_layer), FadeOut(text_output_layer))\n",
        "\n",
        "\n",
        "        self.play(FadeIn(matrix_squares_colored))\n",
        "        self.play(Transform(matrix_squares_colored, input_layer))\n",
        "\n",
        "        self.play(add_intervals([animate_half_lines(weights_hidden1, line_width = STROKE_WEIGHT),\n",
        "                       animate_neurons(hidden_layer1),\n",
        "                       animate_half_lines(weights_hidden2, line_width = STROKE_WEIGHT),\n",
        "                       animate_neurons(hidden_layer2),\n",
        "                       animate_half_lines(weights_hidden2, line_width = STROKE_WEIGHT),\n",
        "                       animate_output(output_layer, labels[1])]))\n",
        "        self.play()\n",
        "        self.play()\n",
        "        self.wait(2)"
      ],
      "metadata": {
        "id": "h_fAgYMJJuDM",
        "colab": {
          "base_uri": "https://localhost:8080/",
          "height": 1000
        },
        "collapsed": true,
        "outputId": "30c62bae-c88a-4824-daa2-8a61275783c3"
      },
      "execution_count": null,
      "outputs": [
        {
          "output_type": "display_data",
          "data": {
            "text/plain": [
              "Manim Community \u001b[32mv0.\u001b[0m\u001b[32m19.0\u001b[0m\n",
              "\n"
            ],
            "text/html": [
              "<pre style=\"white-space:pre;overflow-x:auto;line-height:normal;font-family:Menlo,'DejaVu Sans Mono',consolas,'Courier New',monospace\">Manim Community <span style=\"color: #008000; text-decoration-color: #008000\">v0.19.0</span>\n",
              "\n",
              "</pre>\n"
            ]
          },
          "metadata": {}
        },
        {
          "output_type": "display_data",
          "data": {
            "text/plain": [
              "\u001b[2;36m[08/12/25 22:30:36]\u001b[0m\u001b[2;36m \u001b[0m\u001b[32mINFO    \u001b[0m Animation \u001b[32m0\u001b[0m : Using cached data \u001b[1m(\u001b[0mhash :                           \u001b]8;id=754244;file:///usr/local/lib/python3.11/dist-packages/manim/renderer/cairo_renderer.py\u001b\\\u001b[2mcairo_renderer.py\u001b[0m\u001b]8;;\u001b\\\u001b[2m:\u001b[0m\u001b]8;id=144972;file:///usr/local/lib/python3.11/dist-packages/manim/renderer/cairo_renderer.py#89\u001b\\\u001b[2m89\u001b[0m\u001b]8;;\u001b\\\n",
              "\u001b[2;36m                    \u001b[0m         3529212410_4283996347_223132457\u001b[1m)\u001b[0m                                  \u001b[2m                    \u001b[0m\n"
            ],
            "text/html": [
              "<pre style=\"white-space:pre;overflow-x:auto;line-height:normal;font-family:Menlo,'DejaVu Sans Mono',consolas,'Courier New',monospace\"><span style=\"color: #7fbfbf; text-decoration-color: #7fbfbf\">[08/12/25 22:30:36] </span><span style=\"color: #008000; text-decoration-color: #008000\">INFO    </span> Animation <span style=\"color: #008000; text-decoration-color: #008000\">0</span> : Using cached data <span style=\"font-weight: bold\">(</span>hash :                           <a href=\"file:///usr/local/lib/python3.11/dist-packages/manim/renderer/cairo_renderer.py\" target=\"_blank\"><span style=\"color: #7f7f7f; text-decoration-color: #7f7f7f\">cairo_renderer.py</span></a><span style=\"color: #7f7f7f; text-decoration-color: #7f7f7f\">:</span><a href=\"file:///usr/local/lib/python3.11/dist-packages/manim/renderer/cairo_renderer.py#89\" target=\"_blank\"><span style=\"color: #7f7f7f; text-decoration-color: #7f7f7f\">89</span></a>\n",
              "<span style=\"color: #7fbfbf; text-decoration-color: #7fbfbf\">                    </span>         3529212410_4283996347_223132457<span style=\"font-weight: bold\">)</span>                                  <span style=\"color: #7f7f7f; text-decoration-color: #7f7f7f\">                    </span>\n",
              "</pre>\n"
            ]
          },
          "metadata": {}
        },
        {
          "output_type": "stream",
          "name": "stderr",
          "text": []
        },
        {
          "output_type": "display_data",
          "data": {
            "text/plain": [
              "\u001b[2;36m[08/12/25 22:30:37]\u001b[0m\u001b[2;36m \u001b[0m\u001b[32mINFO    \u001b[0m Animation \u001b[32m1\u001b[0m : Using cached data \u001b[1m(\u001b[0mhash :                           \u001b]8;id=648849;file:///usr/local/lib/python3.11/dist-packages/manim/renderer/cairo_renderer.py\u001b\\\u001b[2mcairo_renderer.py\u001b[0m\u001b]8;;\u001b\\\u001b[2m:\u001b[0m\u001b]8;id=965836;file:///usr/local/lib/python3.11/dist-packages/manim/renderer/cairo_renderer.py#89\u001b\\\u001b[2m89\u001b[0m\u001b]8;;\u001b\\\n",
              "\u001b[2;36m                    \u001b[0m         3040924799_1901359924_1065638087\u001b[1m)\u001b[0m                                 \u001b[2m                    \u001b[0m\n"
            ],
            "text/html": [
              "<pre style=\"white-space:pre;overflow-x:auto;line-height:normal;font-family:Menlo,'DejaVu Sans Mono',consolas,'Courier New',monospace\"><span style=\"color: #7fbfbf; text-decoration-color: #7fbfbf\">[08/12/25 22:30:37] </span><span style=\"color: #008000; text-decoration-color: #008000\">INFO    </span> Animation <span style=\"color: #008000; text-decoration-color: #008000\">1</span> : Using cached data <span style=\"font-weight: bold\">(</span>hash :                           <a href=\"file:///usr/local/lib/python3.11/dist-packages/manim/renderer/cairo_renderer.py\" target=\"_blank\"><span style=\"color: #7f7f7f; text-decoration-color: #7f7f7f\">cairo_renderer.py</span></a><span style=\"color: #7f7f7f; text-decoration-color: #7f7f7f\">:</span><a href=\"file:///usr/local/lib/python3.11/dist-packages/manim/renderer/cairo_renderer.py#89\" target=\"_blank\"><span style=\"color: #7f7f7f; text-decoration-color: #7f7f7f\">89</span></a>\n",
              "<span style=\"color: #7fbfbf; text-decoration-color: #7fbfbf\">                    </span>         3040924799_1901359924_1065638087<span style=\"font-weight: bold\">)</span>                                 <span style=\"color: #7f7f7f; text-decoration-color: #7f7f7f\">                    </span>\n",
              "</pre>\n"
            ]
          },
          "metadata": {}
        },
        {
          "output_type": "stream",
          "name": "stderr",
          "text": []
        },
        {
          "output_type": "display_data",
          "data": {
            "text/plain": [
              "\u001b[2;36m                   \u001b[0m\u001b[2;36m \u001b[0m\u001b[32mINFO    \u001b[0m Animation \u001b[32m2\u001b[0m : Using cached data \u001b[1m(\u001b[0mhash :                           \u001b]8;id=300642;file:///usr/local/lib/python3.11/dist-packages/manim/renderer/cairo_renderer.py\u001b\\\u001b[2mcairo_renderer.py\u001b[0m\u001b]8;;\u001b\\\u001b[2m:\u001b[0m\u001b]8;id=565340;file:///usr/local/lib/python3.11/dist-packages/manim/renderer/cairo_renderer.py#89\u001b\\\u001b[2m89\u001b[0m\u001b]8;;\u001b\\\n",
              "\u001b[2;36m                    \u001b[0m         3040924799_1914190057_3724649304\u001b[1m)\u001b[0m                                 \u001b[2m                    \u001b[0m\n"
            ],
            "text/html": [
              "<pre style=\"white-space:pre;overflow-x:auto;line-height:normal;font-family:Menlo,'DejaVu Sans Mono',consolas,'Courier New',monospace\"><span style=\"color: #7fbfbf; text-decoration-color: #7fbfbf\">                    </span><span style=\"color: #008000; text-decoration-color: #008000\">INFO    </span> Animation <span style=\"color: #008000; text-decoration-color: #008000\">2</span> : Using cached data <span style=\"font-weight: bold\">(</span>hash :                           <a href=\"file:///usr/local/lib/python3.11/dist-packages/manim/renderer/cairo_renderer.py\" target=\"_blank\"><span style=\"color: #7f7f7f; text-decoration-color: #7f7f7f\">cairo_renderer.py</span></a><span style=\"color: #7f7f7f; text-decoration-color: #7f7f7f\">:</span><a href=\"file:///usr/local/lib/python3.11/dist-packages/manim/renderer/cairo_renderer.py#89\" target=\"_blank\"><span style=\"color: #7f7f7f; text-decoration-color: #7f7f7f\">89</span></a>\n",
              "<span style=\"color: #7fbfbf; text-decoration-color: #7fbfbf\">                    </span>         3040924799_1914190057_3724649304<span style=\"font-weight: bold\">)</span>                                 <span style=\"color: #7f7f7f; text-decoration-color: #7f7f7f\">                    </span>\n",
              "</pre>\n"
            ]
          },
          "metadata": {}
        },
        {
          "output_type": "stream",
          "name": "stderr",
          "text": []
        },
        {
          "output_type": "display_data",
          "data": {
            "text/plain": [
              "\u001b[2;36m                   \u001b[0m\u001b[2;36m \u001b[0m\u001b[32mINFO    \u001b[0m Animation \u001b[32m3\u001b[0m : Using cached data \u001b[1m(\u001b[0mhash :                           \u001b]8;id=356295;file:///usr/local/lib/python3.11/dist-packages/manim/renderer/cairo_renderer.py\u001b\\\u001b[2mcairo_renderer.py\u001b[0m\u001b]8;;\u001b\\\u001b[2m:\u001b[0m\u001b]8;id=224209;file:///usr/local/lib/python3.11/dist-packages/manim/renderer/cairo_renderer.py#89\u001b\\\u001b[2m89\u001b[0m\u001b]8;;\u001b\\\n",
              "\u001b[2;36m                    \u001b[0m         3040924799_3774835542_8400376\u001b[1m)\u001b[0m                                    \u001b[2m                    \u001b[0m\n"
            ],
            "text/html": [
              "<pre style=\"white-space:pre;overflow-x:auto;line-height:normal;font-family:Menlo,'DejaVu Sans Mono',consolas,'Courier New',monospace\"><span style=\"color: #7fbfbf; text-decoration-color: #7fbfbf\">                    </span><span style=\"color: #008000; text-decoration-color: #008000\">INFO    </span> Animation <span style=\"color: #008000; text-decoration-color: #008000\">3</span> : Using cached data <span style=\"font-weight: bold\">(</span>hash :                           <a href=\"file:///usr/local/lib/python3.11/dist-packages/manim/renderer/cairo_renderer.py\" target=\"_blank\"><span style=\"color: #7f7f7f; text-decoration-color: #7f7f7f\">cairo_renderer.py</span></a><span style=\"color: #7f7f7f; text-decoration-color: #7f7f7f\">:</span><a href=\"file:///usr/local/lib/python3.11/dist-packages/manim/renderer/cairo_renderer.py#89\" target=\"_blank\"><span style=\"color: #7f7f7f; text-decoration-color: #7f7f7f\">89</span></a>\n",
              "<span style=\"color: #7fbfbf; text-decoration-color: #7fbfbf\">                    </span>         3040924799_3774835542_8400376<span style=\"font-weight: bold\">)</span>                                    <span style=\"color: #7f7f7f; text-decoration-color: #7f7f7f\">                    </span>\n",
              "</pre>\n"
            ]
          },
          "metadata": {}
        },
        {
          "output_type": "stream",
          "name": "stderr",
          "text": []
        },
        {
          "output_type": "display_data",
          "data": {
            "text/plain": [
              "\u001b[2;36m[08/12/25 22:30:38]\u001b[0m\u001b[2;36m \u001b[0m\u001b[32mINFO    \u001b[0m Animation \u001b[32m4\u001b[0m : Using cached data \u001b[1m(\u001b[0mhash :                           \u001b]8;id=445513;file:///usr/local/lib/python3.11/dist-packages/manim/renderer/cairo_renderer.py\u001b\\\u001b[2mcairo_renderer.py\u001b[0m\u001b]8;;\u001b\\\u001b[2m:\u001b[0m\u001b]8;id=762051;file:///usr/local/lib/python3.11/dist-packages/manim/renderer/cairo_renderer.py#89\u001b\\\u001b[2m89\u001b[0m\u001b]8;;\u001b\\\n",
              "\u001b[2;36m                    \u001b[0m         3040924799_4171231298_1463284839\u001b[1m)\u001b[0m                                 \u001b[2m                    \u001b[0m\n"
            ],
            "text/html": [
              "<pre style=\"white-space:pre;overflow-x:auto;line-height:normal;font-family:Menlo,'DejaVu Sans Mono',consolas,'Courier New',monospace\"><span style=\"color: #7fbfbf; text-decoration-color: #7fbfbf\">[08/12/25 22:30:38] </span><span style=\"color: #008000; text-decoration-color: #008000\">INFO    </span> Animation <span style=\"color: #008000; text-decoration-color: #008000\">4</span> : Using cached data <span style=\"font-weight: bold\">(</span>hash :                           <a href=\"file:///usr/local/lib/python3.11/dist-packages/manim/renderer/cairo_renderer.py\" target=\"_blank\"><span style=\"color: #7f7f7f; text-decoration-color: #7f7f7f\">cairo_renderer.py</span></a><span style=\"color: #7f7f7f; text-decoration-color: #7f7f7f\">:</span><a href=\"file:///usr/local/lib/python3.11/dist-packages/manim/renderer/cairo_renderer.py#89\" target=\"_blank\"><span style=\"color: #7f7f7f; text-decoration-color: #7f7f7f\">89</span></a>\n",
              "<span style=\"color: #7fbfbf; text-decoration-color: #7fbfbf\">                    </span>         3040924799_4171231298_1463284839<span style=\"font-weight: bold\">)</span>                                 <span style=\"color: #7f7f7f; text-decoration-color: #7f7f7f\">                    </span>\n",
              "</pre>\n"
            ]
          },
          "metadata": {}
        },
        {
          "output_type": "stream",
          "name": "stderr",
          "text": []
        },
        {
          "output_type": "display_data",
          "data": {
            "text/plain": [
              "\u001b[2;36m                   \u001b[0m\u001b[2;36m \u001b[0m\u001b[32mINFO    \u001b[0m Animation \u001b[32m5\u001b[0m : Using cached data \u001b[1m(\u001b[0mhash :                           \u001b]8;id=212889;file:///usr/local/lib/python3.11/dist-packages/manim/renderer/cairo_renderer.py\u001b\\\u001b[2mcairo_renderer.py\u001b[0m\u001b]8;;\u001b\\\u001b[2m:\u001b[0m\u001b]8;id=812735;file:///usr/local/lib/python3.11/dist-packages/manim/renderer/cairo_renderer.py#89\u001b\\\u001b[2m89\u001b[0m\u001b]8;;\u001b\\\n",
              "\u001b[2;36m                    \u001b[0m         3040924799_4217992463_2294805982\u001b[1m)\u001b[0m                                 \u001b[2m                    \u001b[0m\n"
            ],
            "text/html": [
              "<pre style=\"white-space:pre;overflow-x:auto;line-height:normal;font-family:Menlo,'DejaVu Sans Mono',consolas,'Courier New',monospace\"><span style=\"color: #7fbfbf; text-decoration-color: #7fbfbf\">                    </span><span style=\"color: #008000; text-decoration-color: #008000\">INFO    </span> Animation <span style=\"color: #008000; text-decoration-color: #008000\">5</span> : Using cached data <span style=\"font-weight: bold\">(</span>hash :                           <a href=\"file:///usr/local/lib/python3.11/dist-packages/manim/renderer/cairo_renderer.py\" target=\"_blank\"><span style=\"color: #7f7f7f; text-decoration-color: #7f7f7f\">cairo_renderer.py</span></a><span style=\"color: #7f7f7f; text-decoration-color: #7f7f7f\">:</span><a href=\"file:///usr/local/lib/python3.11/dist-packages/manim/renderer/cairo_renderer.py#89\" target=\"_blank\"><span style=\"color: #7f7f7f; text-decoration-color: #7f7f7f\">89</span></a>\n",
              "<span style=\"color: #7fbfbf; text-decoration-color: #7fbfbf\">                    </span>         3040924799_4217992463_2294805982<span style=\"font-weight: bold\">)</span>                                 <span style=\"color: #7f7f7f; text-decoration-color: #7f7f7f\">                    </span>\n",
              "</pre>\n"
            ]
          },
          "metadata": {}
        },
        {
          "output_type": "display_data",
          "data": {
            "text/plain": [
              "\u001b[2;36m[08/12/25 22:30:41]\u001b[0m\u001b[2;36m \u001b[0m\u001b[32mINFO    \u001b[0m Animation \u001b[32m6\u001b[0m : Using cached data \u001b[1m(\u001b[0mhash :                           \u001b]8;id=209525;file:///usr/local/lib/python3.11/dist-packages/manim/renderer/cairo_renderer.py\u001b\\\u001b[2mcairo_renderer.py\u001b[0m\u001b]8;;\u001b\\\u001b[2m:\u001b[0m\u001b]8;id=773018;file:///usr/local/lib/python3.11/dist-packages/manim/renderer/cairo_renderer.py#89\u001b\\\u001b[2m89\u001b[0m\u001b]8;;\u001b\\\n",
              "\u001b[2;36m                    \u001b[0m         3040924799_453488500_896657897\u001b[1m)\u001b[0m                                   \u001b[2m                    \u001b[0m\n"
            ],
            "text/html": [
              "<pre style=\"white-space:pre;overflow-x:auto;line-height:normal;font-family:Menlo,'DejaVu Sans Mono',consolas,'Courier New',monospace\"><span style=\"color: #7fbfbf; text-decoration-color: #7fbfbf\">[08/12/25 22:30:41] </span><span style=\"color: #008000; text-decoration-color: #008000\">INFO    </span> Animation <span style=\"color: #008000; text-decoration-color: #008000\">6</span> : Using cached data <span style=\"font-weight: bold\">(</span>hash :                           <a href=\"file:///usr/local/lib/python3.11/dist-packages/manim/renderer/cairo_renderer.py\" target=\"_blank\"><span style=\"color: #7f7f7f; text-decoration-color: #7f7f7f\">cairo_renderer.py</span></a><span style=\"color: #7f7f7f; text-decoration-color: #7f7f7f\">:</span><a href=\"file:///usr/local/lib/python3.11/dist-packages/manim/renderer/cairo_renderer.py#89\" target=\"_blank\"><span style=\"color: #7f7f7f; text-decoration-color: #7f7f7f\">89</span></a>\n",
              "<span style=\"color: #7fbfbf; text-decoration-color: #7fbfbf\">                    </span>         3040924799_453488500_896657897<span style=\"font-weight: bold\">)</span>                                   <span style=\"color: #7f7f7f; text-decoration-color: #7f7f7f\">                    </span>\n",
              "</pre>\n"
            ]
          },
          "metadata": {}
        },
        {
          "output_type": "stream",
          "name": "stderr",
          "text": []
        },
        {
          "output_type": "display_data",
          "data": {
            "text/plain": [
              "\u001b[2;36m[08/12/25 22:30:42]\u001b[0m\u001b[2;36m \u001b[0m\u001b[32mINFO    \u001b[0m Animation \u001b[32m7\u001b[0m : Using cached data \u001b[1m(\u001b[0mhash :                           \u001b]8;id=591560;file:///usr/local/lib/python3.11/dist-packages/manim/renderer/cairo_renderer.py\u001b\\\u001b[2mcairo_renderer.py\u001b[0m\u001b]8;;\u001b\\\u001b[2m:\u001b[0m\u001b]8;id=502678;file:///usr/local/lib/python3.11/dist-packages/manim/renderer/cairo_renderer.py#89\u001b\\\u001b[2m89\u001b[0m\u001b]8;;\u001b\\\n",
              "\u001b[2;36m                    \u001b[0m         3040924799_2616920661_1298316742\u001b[1m)\u001b[0m                                 \u001b[2m                    \u001b[0m\n"
            ],
            "text/html": [
              "<pre style=\"white-space:pre;overflow-x:auto;line-height:normal;font-family:Menlo,'DejaVu Sans Mono',consolas,'Courier New',monospace\"><span style=\"color: #7fbfbf; text-decoration-color: #7fbfbf\">[08/12/25 22:30:42] </span><span style=\"color: #008000; text-decoration-color: #008000\">INFO    </span> Animation <span style=\"color: #008000; text-decoration-color: #008000\">7</span> : Using cached data <span style=\"font-weight: bold\">(</span>hash :                           <a href=\"file:///usr/local/lib/python3.11/dist-packages/manim/renderer/cairo_renderer.py\" target=\"_blank\"><span style=\"color: #7f7f7f; text-decoration-color: #7f7f7f\">cairo_renderer.py</span></a><span style=\"color: #7f7f7f; text-decoration-color: #7f7f7f\">:</span><a href=\"file:///usr/local/lib/python3.11/dist-packages/manim/renderer/cairo_renderer.py#89\" target=\"_blank\"><span style=\"color: #7f7f7f; text-decoration-color: #7f7f7f\">89</span></a>\n",
              "<span style=\"color: #7fbfbf; text-decoration-color: #7fbfbf\">                    </span>         3040924799_2616920661_1298316742<span style=\"font-weight: bold\">)</span>                                 <span style=\"color: #7f7f7f; text-decoration-color: #7f7f7f\">                    </span>\n",
              "</pre>\n"
            ]
          },
          "metadata": {}
        },
        {
          "output_type": "stream",
          "name": "stderr",
          "text": []
        },
        {
          "output_type": "error",
          "ename": "TypeError",
          "evalue": "Object None cannot be converted to an animation",
          "traceback": [
            "\u001b[0;31m---------------------------------------------------------------------------\u001b[0m",
            "\u001b[0;31mTypeError\u001b[0m                                 Traceback (most recent call last)",
            "\u001b[0;32m/tmp/ipython-input-2879329747.py\u001b[0m in \u001b[0;36m<cell line: 0>\u001b[0;34m()\u001b[0m\n\u001b[0;32m----> 1\u001b[0;31m \u001b[0mget_ipython\u001b[0m\u001b[0;34m(\u001b[0m\u001b[0;34m)\u001b[0m\u001b[0;34m.\u001b[0m\u001b[0mrun_cell_magic\u001b[0m\u001b[0;34m(\u001b[0m\u001b[0;34m'manim'\u001b[0m\u001b[0;34m,\u001b[0m \u001b[0;34m'NeuralNetwork'\u001b[0m\u001b[0;34m,\u001b[0m \u001b[0;34m'\\n# Layers Constants\\nNUM_INPUTS_REPRESENTATIVE = 14\\nPERCEPTRONS_HIDDEN_LAYER1 = 8\\nPERCEPTRONS_HIDDEN_LAYER2 = 8\\nNUM_OUTPUTS = 10\\nINPUT_SIDE_SIZE = 0.3\\nINPUT_FONT_SIZE = 18\\nRADIUS_NEURONS = 0.25\\nSTROKE_WEIGHT = 1\\nPADDING_SURROUNDING_BOXES = 0.2\\nLABELS_FONT_LAYERS = 20\\nCOLOR_NEURONS = BLUE\\nCOLOR_WEIGHT = WHITE\\nMARGIN_LEFT = 2\\nMARGIN_BETWEEN_LAYERS = 1.2\\nMARGIN_EXAMPLE_INPUT = 0.2\\nDISTANCE_BETWEEN_NEURONS = 0.15\\n\\nSIZE_MNIST_EXAMPLE_SIDE = 0.05\\n\\nclass NeuralNetwork(Scene):\\n    def construct(self):\\n        # Layers Variables\\n        input_layer = VGroup()\\n        weights_hidden1= VGroup()\\n        hidden_layer1 = VGroup(create_colored_neuron(radius_lenght = RADIUS_NEURONS, color = COLOR_NEURONS) for i in range(PERCEPTRONS_HIDDEN_LAYER1)).arrange(DOWN, buff = DISTANCE_BETWEEN_NEURONS)\\n        weights_hidden2 = VGroup()\\n        hidden_layer2 = VGroup(create_colored_neuron(radius_lenght = RADIUS_NEURONS, color = COLOR_NEURONS) for i in range(PERCEPTRONS_HIDDEN_LAYER2)).arrange(DOWN, buff = DISTANCE_BETWEEN_NEURONS)\\n        weights_output = VGroup()\\n        output_layer = VGroup(create_colored_neuron(radius_lenght = RADIUS_NEURONS, color = COLOR_NEURONS) for i in range(NUM_OUTPUTS)).arrange(DOWN, buff = DISTANCE_BETWEEN_NEURONS)\\n\\n        for i in range(NUM_INPUTS_REP...\n\u001b[0m",
            "\u001b[0;32m/usr/local/lib/python3.11/dist-packages/google/colab/_shell.py\u001b[0m in \u001b[0;36mrun_cell_magic\u001b[0;34m(self, magic_name, line, cell)\u001b[0m\n\u001b[1;32m    274\u001b[0m     \u001b[0;32mif\u001b[0m \u001b[0mline\u001b[0m \u001b[0;32mand\u001b[0m \u001b[0;32mnot\u001b[0m \u001b[0mcell\u001b[0m\u001b[0;34m:\u001b[0m\u001b[0;34m\u001b[0m\u001b[0;34m\u001b[0m\u001b[0m\n\u001b[1;32m    275\u001b[0m       \u001b[0mcell\u001b[0m \u001b[0;34m=\u001b[0m \u001b[0;34m' '\u001b[0m\u001b[0;34m\u001b[0m\u001b[0;34m\u001b[0m\u001b[0m\n\u001b[0;32m--> 276\u001b[0;31m     \u001b[0;32mreturn\u001b[0m \u001b[0msuper\u001b[0m\u001b[0;34m(\u001b[0m\u001b[0;34m)\u001b[0m\u001b[0;34m.\u001b[0m\u001b[0mrun_cell_magic\u001b[0m\u001b[0;34m(\u001b[0m\u001b[0mmagic_name\u001b[0m\u001b[0;34m,\u001b[0m \u001b[0mline\u001b[0m\u001b[0;34m,\u001b[0m \u001b[0mcell\u001b[0m\u001b[0;34m)\u001b[0m\u001b[0;34m\u001b[0m\u001b[0;34m\u001b[0m\u001b[0m\n\u001b[0m\u001b[1;32m    277\u001b[0m \u001b[0;34m\u001b[0m\u001b[0m\n\u001b[1;32m    278\u001b[0m \u001b[0;34m\u001b[0m\u001b[0m\n",
            "\u001b[0;32m/usr/local/lib/python3.11/dist-packages/IPython/core/interactiveshell.py\u001b[0m in \u001b[0;36mrun_cell_magic\u001b[0;34m(self, magic_name, line, cell)\u001b[0m\n\u001b[1;32m   2471\u001b[0m             \u001b[0;32mwith\u001b[0m \u001b[0mself\u001b[0m\u001b[0;34m.\u001b[0m\u001b[0mbuiltin_trap\u001b[0m\u001b[0;34m:\u001b[0m\u001b[0;34m\u001b[0m\u001b[0;34m\u001b[0m\u001b[0m\n\u001b[1;32m   2472\u001b[0m                 \u001b[0margs\u001b[0m \u001b[0;34m=\u001b[0m \u001b[0;34m(\u001b[0m\u001b[0mmagic_arg_s\u001b[0m\u001b[0;34m,\u001b[0m \u001b[0mcell\u001b[0m\u001b[0;34m)\u001b[0m\u001b[0;34m\u001b[0m\u001b[0;34m\u001b[0m\u001b[0m\n\u001b[0;32m-> 2473\u001b[0;31m                 \u001b[0mresult\u001b[0m \u001b[0;34m=\u001b[0m \u001b[0mfn\u001b[0m\u001b[0;34m(\u001b[0m\u001b[0;34m*\u001b[0m\u001b[0margs\u001b[0m\u001b[0;34m,\u001b[0m \u001b[0;34m**\u001b[0m\u001b[0mkwargs\u001b[0m\u001b[0;34m)\u001b[0m\u001b[0;34m\u001b[0m\u001b[0;34m\u001b[0m\u001b[0m\n\u001b[0m\u001b[1;32m   2474\u001b[0m             \u001b[0;32mreturn\u001b[0m \u001b[0mresult\u001b[0m\u001b[0;34m\u001b[0m\u001b[0;34m\u001b[0m\u001b[0m\n\u001b[1;32m   2475\u001b[0m \u001b[0;34m\u001b[0m\u001b[0m\n",
            "\u001b[0;32m<decorator-gen-122>\u001b[0m in \u001b[0;36mmanim\u001b[0;34m(self, line, cell, local_ns)\u001b[0m\n",
            "\u001b[0;32m/usr/local/lib/python3.11/dist-packages/IPython/core/magic.py\u001b[0m in \u001b[0;36m<lambda>\u001b[0;34m(f, *a, **k)\u001b[0m\n\u001b[1;32m    185\u001b[0m     \u001b[0;31m# but it's overkill for just that one bit of state.\u001b[0m\u001b[0;34m\u001b[0m\u001b[0;34m\u001b[0m\u001b[0m\n\u001b[1;32m    186\u001b[0m     \u001b[0;32mdef\u001b[0m \u001b[0mmagic_deco\u001b[0m\u001b[0;34m(\u001b[0m\u001b[0marg\u001b[0m\u001b[0;34m)\u001b[0m\u001b[0;34m:\u001b[0m\u001b[0;34m\u001b[0m\u001b[0;34m\u001b[0m\u001b[0m\n\u001b[0;32m--> 187\u001b[0;31m         \u001b[0mcall\u001b[0m \u001b[0;34m=\u001b[0m \u001b[0;32mlambda\u001b[0m \u001b[0mf\u001b[0m\u001b[0;34m,\u001b[0m \u001b[0;34m*\u001b[0m\u001b[0ma\u001b[0m\u001b[0;34m,\u001b[0m \u001b[0;34m**\u001b[0m\u001b[0mk\u001b[0m\u001b[0;34m:\u001b[0m \u001b[0mf\u001b[0m\u001b[0;34m(\u001b[0m\u001b[0;34m*\u001b[0m\u001b[0ma\u001b[0m\u001b[0;34m,\u001b[0m \u001b[0;34m**\u001b[0m\u001b[0mk\u001b[0m\u001b[0;34m)\u001b[0m\u001b[0;34m\u001b[0m\u001b[0;34m\u001b[0m\u001b[0m\n\u001b[0m\u001b[1;32m    188\u001b[0m \u001b[0;34m\u001b[0m\u001b[0m\n\u001b[1;32m    189\u001b[0m         \u001b[0;32mif\u001b[0m \u001b[0mcallable\u001b[0m\u001b[0;34m(\u001b[0m\u001b[0marg\u001b[0m\u001b[0;34m)\u001b[0m\u001b[0;34m:\u001b[0m\u001b[0;34m\u001b[0m\u001b[0;34m\u001b[0m\u001b[0m\n",
            "\u001b[0;32m/usr/local/lib/python3.11/dist-packages/manim/utils/ipython_magic.py\u001b[0m in \u001b[0;36mmanim\u001b[0;34m(self, line, cell, local_ns)\u001b[0m\n\u001b[1;32m    141\u001b[0m                     \u001b[0mSceneClass\u001b[0m \u001b[0;34m=\u001b[0m \u001b[0mlocal_ns\u001b[0m\u001b[0;34m[\u001b[0m\u001b[0mconfig\u001b[0m\u001b[0;34m[\u001b[0m\u001b[0;34m\"scene_names\"\u001b[0m\u001b[0;34m]\u001b[0m\u001b[0;34m[\u001b[0m\u001b[0;36m0\u001b[0m\u001b[0;34m]\u001b[0m\u001b[0;34m]\u001b[0m\u001b[0;34m\u001b[0m\u001b[0;34m\u001b[0m\u001b[0m\n\u001b[1;32m    142\u001b[0m                     \u001b[0mscene\u001b[0m \u001b[0;34m=\u001b[0m \u001b[0mSceneClass\u001b[0m\u001b[0;34m(\u001b[0m\u001b[0mrenderer\u001b[0m\u001b[0;34m=\u001b[0m\u001b[0mrenderer\u001b[0m\u001b[0;34m)\u001b[0m\u001b[0;34m\u001b[0m\u001b[0;34m\u001b[0m\u001b[0m\n\u001b[0;32m--> 143\u001b[0;31m                     \u001b[0mscene\u001b[0m\u001b[0;34m.\u001b[0m\u001b[0mrender\u001b[0m\u001b[0;34m(\u001b[0m\u001b[0;34m)\u001b[0m\u001b[0;34m\u001b[0m\u001b[0;34m\u001b[0m\u001b[0m\n\u001b[0m\u001b[1;32m    144\u001b[0m                 \u001b[0;32mfinally\u001b[0m\u001b[0;34m:\u001b[0m\u001b[0;34m\u001b[0m\u001b[0;34m\u001b[0m\u001b[0m\n\u001b[1;32m    145\u001b[0m                     \u001b[0;31m# Shader cache becomes invalid as the context is destroyed\u001b[0m\u001b[0;34m\u001b[0m\u001b[0;34m\u001b[0m\u001b[0m\n",
            "\u001b[0;32m/usr/local/lib/python3.11/dist-packages/manim/scene/scene.py\u001b[0m in \u001b[0;36mrender\u001b[0;34m(self, preview)\u001b[0m\n\u001b[1;32m    235\u001b[0m         \u001b[0mself\u001b[0m\u001b[0;34m.\u001b[0m\u001b[0msetup\u001b[0m\u001b[0;34m(\u001b[0m\u001b[0;34m)\u001b[0m\u001b[0;34m\u001b[0m\u001b[0;34m\u001b[0m\u001b[0m\n\u001b[1;32m    236\u001b[0m         \u001b[0;32mtry\u001b[0m\u001b[0;34m:\u001b[0m\u001b[0;34m\u001b[0m\u001b[0;34m\u001b[0m\u001b[0m\n\u001b[0;32m--> 237\u001b[0;31m             \u001b[0mself\u001b[0m\u001b[0;34m.\u001b[0m\u001b[0mconstruct\u001b[0m\u001b[0;34m(\u001b[0m\u001b[0;34m)\u001b[0m\u001b[0;34m\u001b[0m\u001b[0;34m\u001b[0m\u001b[0m\n\u001b[0m\u001b[1;32m    238\u001b[0m         \u001b[0;32mexcept\u001b[0m \u001b[0mEndSceneEarlyException\u001b[0m\u001b[0;34m:\u001b[0m\u001b[0;34m\u001b[0m\u001b[0;34m\u001b[0m\u001b[0m\n\u001b[1;32m    239\u001b[0m             \u001b[0;32mpass\u001b[0m\u001b[0;34m\u001b[0m\u001b[0;34m\u001b[0m\u001b[0m\n",
            "\u001b[0;32m<string>\u001b[0m in \u001b[0;36mconstruct\u001b[0;34m(self)\u001b[0m\n",
            "\u001b[0;32m/tmp/ipython-input-844673920.py\u001b[0m in \u001b[0;36madd_intervals\u001b[0;34m(animations, delay)\u001b[0m\n\u001b[1;32m     43\u001b[0m     \u001b[0moutput\u001b[0m \u001b[0;34m=\u001b[0m \u001b[0;34m[\u001b[0m\u001b[0;34m]\u001b[0m\u001b[0;34m\u001b[0m\u001b[0;34m\u001b[0m\u001b[0m\n\u001b[1;32m     44\u001b[0m     \u001b[0;32mfor\u001b[0m \u001b[0manim\u001b[0m \u001b[0;32min\u001b[0m \u001b[0manimations\u001b[0m\u001b[0;34m:\u001b[0m\u001b[0;34m\u001b[0m\u001b[0;34m\u001b[0m\u001b[0m\n\u001b[0;32m---> 45\u001b[0;31m         output.append(Succession(\n\u001b[0m\u001b[1;32m     46\u001b[0m           \u001b[0manim\u001b[0m\u001b[0;34m,\u001b[0m\u001b[0;34m\u001b[0m\u001b[0;34m\u001b[0m\u001b[0m\n\u001b[1;32m     47\u001b[0m           Wait(delay)))\n",
            "\u001b[0;32m/usr/local/lib/python3.11/dist-packages/manim/animation/composition.py\u001b[0m in \u001b[0;36m__init__\u001b[0;34m(self, lag_ratio, *animations, **kwargs)\u001b[0m\n\u001b[1;32m    230\u001b[0m \u001b[0;34m\u001b[0m\u001b[0m\n\u001b[1;32m    231\u001b[0m     \u001b[0;32mdef\u001b[0m \u001b[0m__init__\u001b[0m\u001b[0;34m(\u001b[0m\u001b[0mself\u001b[0m\u001b[0;34m,\u001b[0m \u001b[0;34m*\u001b[0m\u001b[0manimations\u001b[0m\u001b[0;34m:\u001b[0m \u001b[0mAnimation\u001b[0m\u001b[0;34m,\u001b[0m \u001b[0mlag_ratio\u001b[0m\u001b[0;34m:\u001b[0m \u001b[0mfloat\u001b[0m \u001b[0;34m=\u001b[0m \u001b[0;36m1\u001b[0m\u001b[0;34m,\u001b[0m \u001b[0;34m**\u001b[0m\u001b[0mkwargs\u001b[0m\u001b[0;34m)\u001b[0m \u001b[0;34m->\u001b[0m \u001b[0;32mNone\u001b[0m\u001b[0;34m:\u001b[0m\u001b[0;34m\u001b[0m\u001b[0;34m\u001b[0m\u001b[0m\n\u001b[0;32m--> 232\u001b[0;31m         \u001b[0msuper\u001b[0m\u001b[0;34m(\u001b[0m\u001b[0;34m)\u001b[0m\u001b[0;34m.\u001b[0m\u001b[0m__init__\u001b[0m\u001b[0;34m(\u001b[0m\u001b[0;34m*\u001b[0m\u001b[0manimations\u001b[0m\u001b[0;34m,\u001b[0m \u001b[0mlag_ratio\u001b[0m\u001b[0;34m=\u001b[0m\u001b[0mlag_ratio\u001b[0m\u001b[0;34m,\u001b[0m \u001b[0;34m**\u001b[0m\u001b[0mkwargs\u001b[0m\u001b[0;34m)\u001b[0m\u001b[0;34m\u001b[0m\u001b[0;34m\u001b[0m\u001b[0m\n\u001b[0m\u001b[1;32m    233\u001b[0m \u001b[0;34m\u001b[0m\u001b[0m\n\u001b[1;32m    234\u001b[0m     \u001b[0;32mdef\u001b[0m \u001b[0mbegin\u001b[0m\u001b[0;34m(\u001b[0m\u001b[0mself\u001b[0m\u001b[0;34m)\u001b[0m \u001b[0;34m->\u001b[0m \u001b[0;32mNone\u001b[0m\u001b[0;34m:\u001b[0m\u001b[0;34m\u001b[0m\u001b[0;34m\u001b[0m\u001b[0m\n",
            "\u001b[0;32m/usr/local/lib/python3.11/dist-packages/manim/animation/composition.py\u001b[0m in \u001b[0;36m__init__\u001b[0;34m(self, group, run_time, rate_func, lag_ratio, *animations, **kwargs)\u001b[0m\n\u001b[1;32m     63\u001b[0m     ) -> None:\n\u001b[1;32m     64\u001b[0m         \u001b[0marg_anim\u001b[0m \u001b[0;34m=\u001b[0m \u001b[0mflatten_iterable_parameters\u001b[0m\u001b[0;34m(\u001b[0m\u001b[0manimations\u001b[0m\u001b[0;34m)\u001b[0m\u001b[0;34m\u001b[0m\u001b[0;34m\u001b[0m\u001b[0m\n\u001b[0;32m---> 65\u001b[0;31m         \u001b[0mself\u001b[0m\u001b[0;34m.\u001b[0m\u001b[0manimations\u001b[0m \u001b[0;34m=\u001b[0m \u001b[0;34m[\u001b[0m\u001b[0mprepare_animation\u001b[0m\u001b[0;34m(\u001b[0m\u001b[0manim\u001b[0m\u001b[0;34m)\u001b[0m \u001b[0;32mfor\u001b[0m \u001b[0manim\u001b[0m \u001b[0;32min\u001b[0m \u001b[0marg_anim\u001b[0m\u001b[0;34m]\u001b[0m\u001b[0;34m\u001b[0m\u001b[0;34m\u001b[0m\u001b[0m\n\u001b[0m\u001b[1;32m     66\u001b[0m         \u001b[0mself\u001b[0m\u001b[0;34m.\u001b[0m\u001b[0mrate_func\u001b[0m \u001b[0;34m=\u001b[0m \u001b[0mrate_func\u001b[0m\u001b[0;34m\u001b[0m\u001b[0;34m\u001b[0m\u001b[0m\n\u001b[1;32m     67\u001b[0m         \u001b[0mself\u001b[0m\u001b[0;34m.\u001b[0m\u001b[0mgroup\u001b[0m \u001b[0;34m=\u001b[0m \u001b[0mgroup\u001b[0m\u001b[0;34m\u001b[0m\u001b[0;34m\u001b[0m\u001b[0m\n",
            "\u001b[0;32m/usr/local/lib/python3.11/dist-packages/manim/animation/composition.py\u001b[0m in \u001b[0;36m<listcomp>\u001b[0;34m(.0)\u001b[0m\n\u001b[1;32m     63\u001b[0m     ) -> None:\n\u001b[1;32m     64\u001b[0m         \u001b[0marg_anim\u001b[0m \u001b[0;34m=\u001b[0m \u001b[0mflatten_iterable_parameters\u001b[0m\u001b[0;34m(\u001b[0m\u001b[0manimations\u001b[0m\u001b[0;34m)\u001b[0m\u001b[0;34m\u001b[0m\u001b[0;34m\u001b[0m\u001b[0m\n\u001b[0;32m---> 65\u001b[0;31m         \u001b[0mself\u001b[0m\u001b[0;34m.\u001b[0m\u001b[0manimations\u001b[0m \u001b[0;34m=\u001b[0m \u001b[0;34m[\u001b[0m\u001b[0mprepare_animation\u001b[0m\u001b[0;34m(\u001b[0m\u001b[0manim\u001b[0m\u001b[0;34m)\u001b[0m \u001b[0;32mfor\u001b[0m \u001b[0manim\u001b[0m \u001b[0;32min\u001b[0m \u001b[0marg_anim\u001b[0m\u001b[0;34m]\u001b[0m\u001b[0;34m\u001b[0m\u001b[0;34m\u001b[0m\u001b[0m\n\u001b[0m\u001b[1;32m     66\u001b[0m         \u001b[0mself\u001b[0m\u001b[0;34m.\u001b[0m\u001b[0mrate_func\u001b[0m \u001b[0;34m=\u001b[0m \u001b[0mrate_func\u001b[0m\u001b[0;34m\u001b[0m\u001b[0;34m\u001b[0m\u001b[0m\n\u001b[1;32m     67\u001b[0m         \u001b[0mself\u001b[0m\u001b[0;34m.\u001b[0m\u001b[0mgroup\u001b[0m \u001b[0;34m=\u001b[0m \u001b[0mgroup\u001b[0m\u001b[0;34m\u001b[0m\u001b[0;34m\u001b[0m\u001b[0m\n",
            "\u001b[0;32m/usr/local/lib/python3.11/dist-packages/manim/animation/animation.py\u001b[0m in \u001b[0;36mprepare_animation\u001b[0;34m(anim)\u001b[0m\n\u001b[1;32m    579\u001b[0m         \u001b[0;32mreturn\u001b[0m \u001b[0manim\u001b[0m\u001b[0;34m\u001b[0m\u001b[0;34m\u001b[0m\u001b[0m\n\u001b[1;32m    580\u001b[0m \u001b[0;34m\u001b[0m\u001b[0m\n\u001b[0;32m--> 581\u001b[0;31m     \u001b[0;32mraise\u001b[0m \u001b[0mTypeError\u001b[0m\u001b[0;34m(\u001b[0m\u001b[0;34mf\"Object {anim} cannot be converted to an animation\"\u001b[0m\u001b[0;34m)\u001b[0m\u001b[0;34m\u001b[0m\u001b[0;34m\u001b[0m\u001b[0m\n\u001b[0m\u001b[1;32m    582\u001b[0m \u001b[0;34m\u001b[0m\u001b[0m\n\u001b[1;32m    583\u001b[0m \u001b[0;34m\u001b[0m\u001b[0m\n",
            "\u001b[0;31mTypeError\u001b[0m: Object None cannot be converted to an animation"
          ]
        }
      ]
    }
  ]
}