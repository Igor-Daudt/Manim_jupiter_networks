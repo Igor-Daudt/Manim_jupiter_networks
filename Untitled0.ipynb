{
  "nbformat": 4,
  "nbformat_minor": 0,
  "metadata": {
    "colab": {
      "provenance": [],
      "authorship_tag": "ABX9TyP558Q8wqeHl+H6rOwgnBWF",
      "include_colab_link": true
    },
    "kernelspec": {
      "name": "python3",
      "display_name": "Python 3"
    },
    "language_info": {
      "name": "python"
    }
  },
  "cells": [
    {
      "cell_type": "markdown",
      "metadata": {
        "id": "view-in-github",
        "colab_type": "text"
      },
      "source": [
        "<a href=\"https://colab.research.google.com/github/Igor-Daudt/Manim_jupiter_networks/blob/main/Untitled0.ipynb\" target=\"_parent\"><img src=\"https://colab.research.google.com/assets/colab-badge.svg\" alt=\"Open In Colab\"/></a>"
      ]
    },
    {
      "cell_type": "code",
      "source": [
        "#!sudo apt update\n",
        "#!sudo apt install libcairo2-dev \\\n",
        "#    texlive texlive-latex-extra texlive-fonts-extra \\\n",
        "#    texlive-latex-recommended texlive-science \\\n",
        "#    tipa libpango1.0-dev\n",
        "#!pip install manim"
      ],
      "metadata": {
        "id": "uVLPQyKzWlyd"
      },
      "execution_count": 1,
      "outputs": []
    },
    {
      "cell_type": "code",
      "execution_count": 14,
      "metadata": {
        "id": "hPVfgg_sHEZU"
      },
      "outputs": [],
      "source": [
        "from manim import *\n",
        "from pandas import read_csv\n",
        "from math import floor\n",
        "from random import sample, random"
      ]
    },
    {
      "cell_type": "code",
      "source": [
        "\n",
        "class DataMatrix(VGroup):\n",
        "    def __init__(\n",
        "        self,\n",
        "        data,\n",
        "        num_rows,\n",
        "        cell_width = 1.0,\n",
        "        cell_height = 1.0,\n",
        "        rows_margin = 0.0,\n",
        "        cols_margin = 0.0,\n",
        "        stroke_width = 2.0,\n",
        "        font_size = 24,\n",
        "        font_type = \"Century\",\n",
        "        color_mode = False,\n",
        "        **kwargs\n",
        "    ):\n",
        "        super().__init__(**kwargs)\n",
        "\n",
        "        self.num_rows, self.num_cols = num_rows, int(len(data) / num_rows)\n",
        "        self.cell_width = cell_width\n",
        "        self.cell_height = cell_height\n",
        "        self.rows_margin = rows_margin\n",
        "        self.cols_margin = cols_margin\n",
        "        self.font_size = font_size\n",
        "        self.font_type = font_type\n",
        "        self.matrix_data = data.copy()\n",
        "        self.stroke_width = stroke_width\n",
        "        self.color_mode = color_mode\n",
        "\n",
        "        self.build_matrix()\n",
        "\n",
        "    def build_matrix(self):\n",
        "        self.submobjects.clear()\n",
        "\n",
        "        for i in range(self.num_rows):\n",
        "            row = VGroup()\n",
        "            for j in range(self.num_cols):\n",
        "                row.add(Rectangle(\n",
        "                    width = self.cell_width,\n",
        "                    height = self.cell_height,\n",
        "                    stroke_color = WHITE\n",
        "                ).set_stroke(width = self.stroke_width))\n",
        "\n",
        "                if self.color_mode:\n",
        "                    row[j].set_fill(color = WHITE, opacity = self.matrix_data[i * self.num_cols + j])\n",
        "                else:\n",
        "                    row[j].add(Text(text = str(self.matrix_data[i * self.num_cols + j]), font = self.font_type, font_size = self.font_size))\n",
        "\n",
        "            row.arrange(RIGHT, buff = self.cols_margin)\n",
        "            self.add(row)\n",
        "\n",
        "        self.arrange(DOWN, buff = self.rows_margin)\n",
        "        self.move_to(ORIGIN)\n",
        "\n",
        "class SurroundingRectangleGL(Rectangle):\n",
        "    def __init__(self, mobjects, buff=0, **kwargs):\n",
        "        if not isinstance(mobjects, Mobject):\n",
        "            mobjects = VGroup(*mobjects)\n",
        "\n",
        "        super().__init__(width = mobjects.width + 2 * buff, height = mobjects.height + 2 * buff, **kwargs)\n",
        "        self.move_to(mobjects.get_center())\n"
      ],
      "metadata": {
        "id": "ES-fuTuvNnTY"
      },
      "execution_count": 28,
      "outputs": []
    },
    {
      "cell_type": "code",
      "source": [
        "def create_colored_neuron(radius_lenght = 1.0, color = BLUE, fill_color = WHITE, opacity = 0):\n",
        "    return Circle(radius = radius_lenght, color = color).set_fill(color = fill_color, opacity = opacity)\n",
        "\n",
        "def create_rectangle_with_text(text, font_type, font_size, side_length = 2.0, func_square = lambda x: x, func_text = lambda x: x):\n",
        "    sq = Square(side_length = side_length)\n",
        "    func_square(sq)\n",
        "\n",
        "    text = Text(text = text, font=font_type, font_size = font_size)\n",
        "    func_text(text)\n",
        "\n",
        "    sq.add(text)\n",
        "    return sq\n",
        "\n",
        "def normalize_values(listRGB):\n",
        "    return list(map(lambda x: round(x / 255, 1), listRGB))\n",
        "\n",
        "def format_values(list_numbers, simplify = True):\n",
        "    return list(map(lambda x: format_value(x, simplify), list_numbers))\n",
        "\n",
        "def format_value(number, simplify):\n",
        "    out = \"\"\n",
        "    if number == 0:\n",
        "        return \"0\"\n",
        "    elif number == 1:\n",
        "        return \"1\"\n",
        "    elif simplify:\n",
        "        out = str(number).replace(\"0.\", \"\")\n",
        "    else:\n",
        "        out = str(number).replace(\".\", \"\")\n",
        "    return f\",{out}\"\n",
        "\n",
        "def arrange_list(data : VGroup, num_cols, column_direction = RIGHT,  column_buff = 0):\n",
        "    out = VGroup()\n",
        "    size = len(data.submobjects)\n",
        "    index = 0\n",
        "    while index < size:\n",
        "        aux = VGroup()\n",
        "        for i in range(num_cols):\n",
        "            if index < size:\n",
        "               aux.add(data[index])\n",
        "            index += 1\n",
        "        aux.arrange(direction = column_direction, buff = column_buff)\n",
        "        out.add(aux)\n",
        "    return out\n",
        "\n",
        "def sucession_animations(animation, object_list, delay):\n",
        "    current_delay = 0\n",
        "    sucessions_functions = list()\n",
        "    for obj in object_list:\n",
        "        sucessions_functions.append(Succession(\n",
        "            Wait(current_delay),\n",
        "            animation(obj)))\n",
        "        current_delay += delay\n",
        "    return sucessions_functions\n",
        "\n",
        "# create_groups_connection: Each object of group 2 is connected to every object from group1\n",
        "def create_groups_connection(group1, group2, func_reference1, func_reference2, **kwargs):\n",
        "    output = VGroup()\n",
        "    for i in group2:\n",
        "        for j in group1:\n",
        "            output.add(Line(func_reference1(j), func_reference2(i), **kwargs))\n",
        "\n",
        "def animate_half_lines(lines, line_width = 2, run_time= 1.5, animation_time = 1):\n",
        "    selected = sample(list(lines), k=len(lines)//2)\n",
        "\n",
        "    animations = []\n",
        "    for line in selected:\n",
        "        highlight = line.copy()\n",
        "        highlight.set_stroke(color=BLUE, width=line_width)\n",
        "\n",
        "        anim = ShowPassingFlash(\n",
        "            highlight,\n",
        "            time_width=animation_time,\n",
        "            run_time=run_time,\n",
        "            rate_func = linear\n",
        "        )\n",
        "        animations.append(anim)\n",
        "\n",
        "    return animations\n",
        "\n",
        "def animate_neurons(circles, run_time = 1.5):\n",
        "    animations = []\n",
        "    for i in range(len(circles)):\n",
        "        activation = pow(random(), 2)\n",
        "        activated_circle = circles[i].copy()\n",
        "        activated_circle.set_fill(color = WHITE, opacity = activation)\n",
        "\n",
        "        animations.append(Transform(circles[i], activated_circle, run_time = run_time))\n",
        "\n",
        "    return animations\n",
        "\n",
        "def animate_output(circles, label, run_time = 1.5):\n",
        "    animations = []\n",
        "    for i in range(len(circles)):\n",
        "        if i == label:\n",
        "            activation = 1 - random() / 10\n",
        "        else:\n",
        "            activation = random() / 7\n",
        "        activated_circle = circles[i].copy()\n",
        "        activated_circle.set_fill(color = WHITE, opacity = activation)\n",
        "\n",
        "        animations.append(Transform(circles[i], activated_circle, run_time = run_time))\n",
        "\n",
        "    return animations\n",
        "\n",
        "\n"
      ],
      "metadata": {
        "id": "mj3JFwu5MTQ2"
      },
      "execution_count": 4,
      "outputs": []
    },
    {
      "cell_type": "code",
      "source": [
        "# Global variables to control the view\n",
        "FONT_SIZE_TITLE = 46\n",
        "FONT_TYPE = \"Go\" # Century\n",
        "NUM_ROWS_MNIST = 28 # 28\n",
        "NUM_COLUMNS_MNIST = 28 # 28\n",
        "\n",
        "\n",
        "# Variables to control the logic\n",
        "csv_file = read_csv(\"sample_data/mnist_test.csv\", header = None)\n",
        "labels = csv_file.iloc[:10, 0].values.tolist()\n",
        "images = csv_file.iloc[:10, 1:].values.tolist()\n",
        "\n",
        "pixels_normalized = [normalize_values(i) for i in images]\n",
        "format_pixels_values = [format_values(i) for i in pixels_normalized]"
      ],
      "metadata": {
        "id": "9haaOBvuMeNp"
      },
      "execution_count": 5,
      "outputs": []
    },
    {
      "cell_type": "code",
      "source": [
        "%%manim -pql  DataRepresentation\n",
        "\n",
        "def list_to_matrix(data, num_rows = 28, num_cols = 28):\n",
        "  out = []\n",
        "  for i in range(int(len(data)/num_rows)):\n",
        "    out.append(data[i*num_cols:(i+1)*num_cols])\n",
        "\n",
        "  return out\n",
        "\n",
        "def matrix_to_list(data):\n",
        "  out = []\n",
        "  for row in data:\n",
        "    for column in row:\n",
        "      out.append(column)\n",
        "\n",
        "  return out\n",
        "\n",
        "csv_parcial_data = read_csv(\"sample_data/digits.csv\", header = None)\n",
        "parcial_data_pixels = csv_parcial_data.iloc[:4, :].values.tolist()\n",
        "\n",
        "class DataRepresentation(Scene):\n",
        "  def construct(self):\n",
        "      CONFIG = {\n",
        "          \"cell_side\" : 0.05,\n",
        "          \"square_margin\" : 0.2,\n",
        "          \"background_margin\" : 0.3,\n",
        "      }\n",
        "      title_text = MarkupText(\"Primeira Camada Oculta\", font = FONT_TYPE, font_size = FONT_SIZE_TITLE)\n",
        "      data_layer_hidden1 = []\n",
        "      data_layer_hidden2 = VGroup(*[DataMatrix(i, num_rows = NUM_ROWS_MNIST, cell_width = CONFIG[\"cell_side\"], cell_height = CONFIG[\"cell_side\"], stroke_width = 0, color_mode = True) for i in parcial_data_pixels])\n",
        "\n",
        "      data_layer_hidden2 = arrange_list(data_layer_hidden2, 3, column_buff = CONFIG[\"square_margin\"]).arrange(direction = DOWN)\n",
        "\n",
        "      surrounding_boxes2 = [SurroundingRectangleGL(elem) for row in data_layer_hidden2 for elem in row]\n",
        "      background2 = SurroundingRectangleGL(mobjects = surrounding_boxes2, buff = CONFIG[\"background_margin\"]).set_fill(BLACK, opacity = 1)\n",
        "      self.add(background2)\n",
        "\n",
        "      self.add(data_layer_hidden2, *surrounding_boxes2)\n",
        "      data_output = VGroup(data_layer_hidden2[0][1].copy().move_to(ORIGIN), data_layer_hidden2[0][2].copy().move_to(ORIGIN), data_layer_hidden2[1][0].copy().move_to(ORIGIN)).next_to(background2, RIGHT)\n",
        "      self.play(TransformFromCopy(VGroup(data_layer_hidden2[0][1], data_layer_hidden2[0][2], data_layer_hidden2[1][0]), data_output))\n",
        "\n",
        "\n",
        "      self.interactive_embed()\n",
        "\n",
        "\n",
        "      for i in range(1, 2):\n",
        "        for j in list_to_matrix(pixels_normalized[i]):\n",
        "          print(j)"
      ],
      "metadata": {
        "colab": {
          "base_uri": "https://localhost:8080/",
          "height": 1000
        },
        "id": "hFXBU1dfoq1X",
        "outputId": "e35d2f8e-3563-4166-fdfa-02bddfd0cfaf"
      },
      "execution_count": 39,
      "outputs": [
        {
          "output_type": "display_data",
          "data": {
            "text/plain": [
              "Manim Community \u001b[32mv0.\u001b[0m\u001b[32m19.0\u001b[0m\n",
              "\n"
            ],
            "text/html": [
              "<pre style=\"white-space:pre;overflow-x:auto;line-height:normal;font-family:Menlo,'DejaVu Sans Mono',consolas,'Courier New',monospace\">Manim Community <span style=\"color: #008000; text-decoration-color: #008000\">v0.19.0</span>\n",
              "\n",
              "</pre>\n"
            ]
          },
          "metadata": {}
        },
        {
          "output_type": "display_data",
          "data": {
            "text/plain": [
              "\u001b[2;36m[08/19/25 19:21:56]\u001b[0m\u001b[2;36m \u001b[0m\u001b[32mINFO    \u001b[0m Animation \u001b[32m0\u001b[0m : Using cached data \u001b[1m(\u001b[0mhash :                           \u001b]8;id=387101;file:///usr/local/lib/python3.12/dist-packages/manim/renderer/cairo_renderer.py\u001b\\\u001b[2mcairo_renderer.py\u001b[0m\u001b]8;;\u001b\\\u001b[2m:\u001b[0m\u001b]8;id=621775;file:///usr/local/lib/python3.12/dist-packages/manim/renderer/cairo_renderer.py#89\u001b\\\u001b[2m89\u001b[0m\u001b]8;;\u001b\\\n",
              "\u001b[2;36m                    \u001b[0m         1185818338_1453461026_4093389533\u001b[1m)\u001b[0m                                 \u001b[2m                    \u001b[0m\n"
            ],
            "text/html": [
              "<pre style=\"white-space:pre;overflow-x:auto;line-height:normal;font-family:Menlo,'DejaVu Sans Mono',consolas,'Courier New',monospace\"><span style=\"color: #7fbfbf; text-decoration-color: #7fbfbf\">[08/19/25 19:21:56] </span><span style=\"color: #008000; text-decoration-color: #008000\">INFO    </span> Animation <span style=\"color: #008000; text-decoration-color: #008000\">0</span> : Using cached data <span style=\"font-weight: bold\">(</span>hash :                           <a href=\"file:///usr/local/lib/python3.12/dist-packages/manim/renderer/cairo_renderer.py\" target=\"_blank\"><span style=\"color: #7f7f7f; text-decoration-color: #7f7f7f\">cairo_renderer.py</span></a><span style=\"color: #7f7f7f; text-decoration-color: #7f7f7f\">:</span><a href=\"file:///usr/local/lib/python3.12/dist-packages/manim/renderer/cairo_renderer.py#89\" target=\"_blank\"><span style=\"color: #7f7f7f; text-decoration-color: #7f7f7f\">89</span></a>\n",
              "<span style=\"color: #7fbfbf; text-decoration-color: #7fbfbf\">                    </span>         1185818338_1453461026_4093389533<span style=\"font-weight: bold\">)</span>                                 <span style=\"color: #7f7f7f; text-decoration-color: #7f7f7f\">                    </span>\n",
              "</pre>\n"
            ]
          },
          "metadata": {}
        },
        {
          "output_type": "stream",
          "name": "stderr",
          "text": []
        },
        {
          "output_type": "display_data",
          "data": {
            "text/plain": [
              "\u001b[2;36m[08/19/25 19:21:58]\u001b[0m\u001b[2;36m \u001b[0m\u001b[31mWARNING \u001b[0m Disabling interactive embed as \u001b[32m'write_to_movie'\u001b[0m is enabled               \u001b]8;id=991130;file:///usr/local/lib/python3.12/dist-packages/manim/scene/scene.py\u001b\\\u001b[2mscene.py\u001b[0m\u001b]8;;\u001b\\\u001b[2m:\u001b[0m\u001b]8;id=867502;file:///usr/local/lib/python3.12/dist-packages/manim/scene/scene.py#1320\u001b\\\u001b[2m1320\u001b[0m\u001b]8;;\u001b\\\n"
            ],
            "text/html": [
              "<pre style=\"white-space:pre;overflow-x:auto;line-height:normal;font-family:Menlo,'DejaVu Sans Mono',consolas,'Courier New',monospace\"><span style=\"color: #7fbfbf; text-decoration-color: #7fbfbf\">[08/19/25 19:21:58] </span><span style=\"color: #800000; text-decoration-color: #800000\">WARNING </span> Disabling interactive embed as <span style=\"color: #008000; text-decoration-color: #008000\">'write_to_movie'</span> is enabled               <a href=\"file:///usr/local/lib/python3.12/dist-packages/manim/scene/scene.py\" target=\"_blank\"><span style=\"color: #7f7f7f; text-decoration-color: #7f7f7f\">scene.py</span></a><span style=\"color: #7f7f7f; text-decoration-color: #7f7f7f\">:</span><a href=\"file:///usr/local/lib/python3.12/dist-packages/manim/scene/scene.py#1320\" target=\"_blank\"><span style=\"color: #7f7f7f; text-decoration-color: #7f7f7f\">1320</span></a>\n",
              "</pre>\n"
            ]
          },
          "metadata": {}
        },
        {
          "output_type": "stream",
          "name": "stdout",
          "text": [
            "[0.0, 0.0, 0.0, 0.0, 0.0, 0.0, 0.0, 0.0, 0.0, 0.0, 0.0, 0.0, 0.0, 0.0, 0.0, 0.0, 0.0, 0.0, 0.0, 0.0, 0.0, 0.0, 0.0, 0.0, 0.0, 0.0, 0.0, 0.0]\n",
            "[0.0, 0.0, 0.0, 0.0, 0.0, 0.0, 0.0, 0.0, 0.0, 0.0, 0.0, 0.0, 0.0, 0.0, 0.0, 0.0, 0.0, 0.0, 0.0, 0.0, 0.0, 0.0, 0.0, 0.0, 0.0, 0.0, 0.0, 0.0]\n",
            "[0.0, 0.0, 0.0, 0.0, 0.0, 0.0, 0.0, 0.0, 0.0, 0.0, 0.0, 0.0, 0.0, 0.0, 0.0, 0.0, 0.0, 0.0, 0.0, 0.0, 0.0, 0.0, 0.0, 0.0, 0.0, 0.0, 0.0, 0.0]\n",
            "[0.0, 0.0, 0.0, 0.0, 0.0, 0.0, 0.0, 0.0, 0.0, 0.0, 0.5, 0.5, 0.7, 1.0, 1.0, 0.6, 0.4, 0.0, 0.0, 0.0, 0.0, 0.0, 0.0, 0.0, 0.0, 0.0, 0.0, 0.0]\n",
            "[0.0, 0.0, 0.0, 0.0, 0.0, 0.0, 0.0, 0.0, 0.0, 0.7, 1.0, 1.0, 1.0, 1.0, 1.0, 1.0, 0.9, 0.1, 0.0, 0.0, 0.0, 0.0, 0.0, 0.0, 0.0, 0.0, 0.0, 0.0]\n",
            "[0.0, 0.0, 0.0, 0.0, 0.0, 0.0, 0.0, 0.0, 0.7, 1.0, 1.0, 1.0, 0.8, 0.6, 0.7, 1.0, 1.0, 0.5, 0.0, 0.0, 0.0, 0.0, 0.0, 0.0, 0.0, 0.0, 0.0, 0.0]\n",
            "[0.0, 0.0, 0.0, 0.0, 0.0, 0.0, 0.0, 0.2, 1.0, 1.0, 0.8, 0.1, 0.0, 0.0, 0.0, 0.8, 1.0, 0.5, 0.0, 0.0, 0.0, 0.0, 0.0, 0.0, 0.0, 0.0, 0.0, 0.0]\n",
            "[0.0, 0.0, 0.0, 0.0, 0.0, 0.0, 0.0, 0.3, 1.0, 0.8, 0.1, 0.0, 0.0, 0.0, 0.5, 1.0, 1.0, 0.3, 0.0, 0.0, 0.0, 0.0, 0.0, 0.0, 0.0, 0.0, 0.0, 0.0]\n",
            "[0.0, 0.0, 0.0, 0.0, 0.0, 0.0, 0.0, 0.0, 0.1, 0.1, 0.0, 0.0, 0.0, 0.0, 0.8, 1.0, 1.0, 0.3, 0.0, 0.0, 0.0, 0.0, 0.0, 0.0, 0.0, 0.0, 0.0, 0.0]\n",
            "[0.0, 0.0, 0.0, 0.0, 0.0, 0.0, 0.0, 0.0, 0.0, 0.0, 0.0, 0.0, 0.0, 0.5, 1.0, 1.0, 0.8, 0.0, 0.0, 0.0, 0.0, 0.0, 0.0, 0.0, 0.0, 0.0, 0.0, 0.0]\n",
            "[0.0, 0.0, 0.0, 0.0, 0.0, 0.0, 0.0, 0.0, 0.0, 0.0, 0.0, 0.0, 0.3, 1.0, 1.0, 0.9, 0.2, 0.0, 0.0, 0.0, 0.0, 0.0, 0.0, 0.0, 0.0, 0.0, 0.0, 0.0]\n",
            "[0.0, 0.0, 0.0, 0.0, 0.0, 0.0, 0.0, 0.0, 0.0, 0.0, 0.0, 0.0, 0.5, 1.0, 1.0, 0.6, 0.0, 0.0, 0.0, 0.0, 0.0, 0.0, 0.0, 0.0, 0.0, 0.0, 0.0, 0.0]\n",
            "[0.0, 0.0, 0.0, 0.0, 0.0, 0.0, 0.0, 0.0, 0.0, 0.0, 0.0, 0.7, 1.0, 1.0, 0.6, 0.0, 0.0, 0.0, 0.0, 0.0, 0.0, 0.0, 0.0, 0.0, 0.0, 0.0, 0.0, 0.0]\n",
            "[0.0, 0.0, 0.0, 0.0, 0.0, 0.0, 0.0, 0.0, 0.0, 0.0, 0.1, 0.9, 1.0, 0.9, 0.1, 0.0, 0.0, 0.0, 0.0, 0.0, 0.0, 0.0, 0.0, 0.0, 0.0, 0.0, 0.0, 0.0]\n",
            "[0.0, 0.0, 0.0, 0.0, 0.0, 0.0, 0.0, 0.0, 0.0, 0.0, 0.8, 1.0, 1.0, 0.6, 0.0, 0.0, 0.0, 0.0, 0.0, 0.0, 0.0, 0.0, 0.0, 0.0, 0.0, 0.0, 0.0, 0.0]\n",
            "[0.0, 0.0, 0.0, 0.0, 0.0, 0.0, 0.0, 0.0, 0.0, 0.3, 1.0, 1.0, 0.7, 0.0, 0.0, 0.0, 0.0, 0.0, 0.0, 0.0, 0.0, 0.0, 0.0, 0.0, 0.0, 0.0, 0.0, 0.0]\n",
            "[0.0, 0.0, 0.0, 0.0, 0.0, 0.0, 0.0, 0.0, 0.1, 0.8, 1.0, 1.0, 0.6, 0.0, 0.0, 0.0, 0.0, 0.0, 0.0, 0.0, 0.0, 0.0, 0.0, 0.0, 0.0, 0.0, 0.0, 0.0]\n",
            "[0.0, 0.0, 0.0, 0.0, 0.0, 0.0, 0.0, 0.0, 0.5, 1.0, 1.0, 0.7, 0.0, 0.0, 0.0, 0.0, 0.0, 0.0, 0.0, 0.0, 0.0, 0.0, 0.0, 0.0, 0.0, 0.0, 0.0, 0.0]\n",
            "[0.0, 0.0, 0.0, 0.0, 0.0, 0.0, 0.0, 0.0, 1.0, 1.0, 1.0, 0.1, 0.0, 0.0, 0.0, 0.0, 0.0, 0.0, 0.0, 0.0, 0.0, 0.0, 0.0, 0.0, 0.0, 0.0, 0.0, 0.0]\n",
            "[0.0, 0.0, 0.0, 0.0, 0.0, 0.0, 0.0, 0.0, 1.0, 1.0, 1.0, 0.2, 0.1, 0.1, 0.1, 0.1, 0.0, 0.0, 0.0, 0.1, 0.1, 0.1, 0.6, 0.6, 0.6, 0.6, 0.0, 0.0]\n",
            "[0.0, 0.0, 0.0, 0.0, 0.0, 0.0, 0.0, 0.0, 1.0, 1.0, 1.0, 1.0, 1.0, 1.0, 1.0, 1.0, 0.7, 0.6, 0.7, 1.0, 1.0, 1.0, 1.0, 1.0, 1.0, 1.0, 0.5, 0.0]\n",
            "[0.0, 0.0, 0.0, 0.0, 0.0, 0.0, 0.0, 0.0, 0.7, 1.0, 1.0, 1.0, 1.0, 1.0, 1.0, 1.0, 1.0, 1.0, 1.0, 1.0, 1.0, 1.0, 1.0, 0.7, 0.5, 0.5, 0.2, 0.0]\n",
            "[0.0, 0.0, 0.0, 0.0, 0.0, 0.0, 0.0, 0.0, 0.0, 0.5, 0.5, 0.5, 0.5, 0.7, 1.0, 1.0, 1.0, 0.6, 0.5, 0.5, 0.2, 0.0, 0.0, 0.0, 0.0, 0.0, 0.0, 0.0]\n",
            "[0.0, 0.0, 0.0, 0.0, 0.0, 0.0, 0.0, 0.0, 0.0, 0.0, 0.0, 0.0, 0.0, 0.0, 0.0, 0.0, 0.0, 0.0, 0.0, 0.0, 0.0, 0.0, 0.0, 0.0, 0.0, 0.0, 0.0, 0.0]\n",
            "[0.0, 0.0, 0.0, 0.0, 0.0, 0.0, 0.0, 0.0, 0.0, 0.0, 0.0, 0.0, 0.0, 0.0, 0.0, 0.0, 0.0, 0.0, 0.0, 0.0, 0.0, 0.0, 0.0, 0.0, 0.0, 0.0, 0.0, 0.0]\n",
            "[0.0, 0.0, 0.0, 0.0, 0.0, 0.0, 0.0, 0.0, 0.0, 0.0, 0.0, 0.0, 0.0, 0.0, 0.0, 0.0, 0.0, 0.0, 0.0, 0.0, 0.0, 0.0, 0.0, 0.0, 0.0, 0.0, 0.0, 0.0]\n",
            "[0.0, 0.0, 0.0, 0.0, 0.0, 0.0, 0.0, 0.0, 0.0, 0.0, 0.0, 0.0, 0.0, 0.0, 0.0, 0.0, 0.0, 0.0, 0.0, 0.0, 0.0, 0.0, 0.0, 0.0, 0.0, 0.0, 0.0, 0.0]\n",
            "[0.0, 0.0, 0.0, 0.0, 0.0, 0.0, 0.0, 0.0, 0.0, 0.0, 0.0, 0.0, 0.0, 0.0, 0.0, 0.0, 0.0, 0.0, 0.0, 0.0, 0.0, 0.0, 0.0, 0.0, 0.0, 0.0, 0.0, 0.0]\n"
          ]
        },
        {
          "output_type": "display_data",
          "data": {
            "text/plain": [
              "\u001b[2;36m                   \u001b[0m\u001b[2;36m \u001b[0m\u001b[32mINFO    \u001b[0m Combining to Movie file.                                      \u001b]8;id=203184;file:///usr/local/lib/python3.12/dist-packages/manim/scene/scene_file_writer.py\u001b\\\u001b[2mscene_file_writer.py\u001b[0m\u001b]8;;\u001b\\\u001b[2m:\u001b[0m\u001b]8;id=202137;file:///usr/local/lib/python3.12/dist-packages/manim/scene/scene_file_writer.py#739\u001b\\\u001b[2m739\u001b[0m\u001b]8;;\u001b\\\n"
            ],
            "text/html": [
              "<pre style=\"white-space:pre;overflow-x:auto;line-height:normal;font-family:Menlo,'DejaVu Sans Mono',consolas,'Courier New',monospace\"><span style=\"color: #7fbfbf; text-decoration-color: #7fbfbf\">                    </span><span style=\"color: #008000; text-decoration-color: #008000\">INFO    </span> Combining to Movie file.                                      <a href=\"file:///usr/local/lib/python3.12/dist-packages/manim/scene/scene_file_writer.py\" target=\"_blank\"><span style=\"color: #7f7f7f; text-decoration-color: #7f7f7f\">scene_file_writer.py</span></a><span style=\"color: #7f7f7f; text-decoration-color: #7f7f7f\">:</span><a href=\"file:///usr/local/lib/python3.12/dist-packages/manim/scene/scene_file_writer.py#739\" target=\"_blank\"><span style=\"color: #7f7f7f; text-decoration-color: #7f7f7f\">739</span></a>\n",
              "</pre>\n"
            ]
          },
          "metadata": {}
        },
        {
          "output_type": "display_data",
          "data": {
            "text/plain": [
              "\u001b[2;36m                   \u001b[0m\u001b[2;36m \u001b[0m\u001b[32mINFO    \u001b[0m                                                               \u001b]8;id=235413;file:///usr/local/lib/python3.12/dist-packages/manim/scene/scene_file_writer.py\u001b\\\u001b[2mscene_file_writer.py\u001b[0m\u001b]8;;\u001b\\\u001b[2m:\u001b[0m\u001b]8;id=665095;file:///usr/local/lib/python3.12/dist-packages/manim/scene/scene_file_writer.py#886\u001b\\\u001b[2m886\u001b[0m\u001b]8;;\u001b\\\n",
              "\u001b[2;36m                    \u001b[0m         \u001b[1;33mFile\u001b[0m ready at                                                 \u001b[2m                        \u001b[0m\n",
              "\u001b[2;36m                    \u001b[0m         \u001b[32m'/content/media/videos/content/480p15/DataRepresentation.mp4'\u001b[0m \u001b[2m                        \u001b[0m\n",
              "\u001b[2;36m                    \u001b[0m                                                                       \u001b[2m                        \u001b[0m\n"
            ],
            "text/html": [
              "<pre style=\"white-space:pre;overflow-x:auto;line-height:normal;font-family:Menlo,'DejaVu Sans Mono',consolas,'Courier New',monospace\"><span style=\"color: #7fbfbf; text-decoration-color: #7fbfbf\">                    </span><span style=\"color: #008000; text-decoration-color: #008000\">INFO    </span>                                                               <a href=\"file:///usr/local/lib/python3.12/dist-packages/manim/scene/scene_file_writer.py\" target=\"_blank\"><span style=\"color: #7f7f7f; text-decoration-color: #7f7f7f\">scene_file_writer.py</span></a><span style=\"color: #7f7f7f; text-decoration-color: #7f7f7f\">:</span><a href=\"file:///usr/local/lib/python3.12/dist-packages/manim/scene/scene_file_writer.py#886\" target=\"_blank\"><span style=\"color: #7f7f7f; text-decoration-color: #7f7f7f\">886</span></a>\n",
              "<span style=\"color: #7fbfbf; text-decoration-color: #7fbfbf\">                    </span>         <span style=\"color: #808000; text-decoration-color: #808000; font-weight: bold\">File</span> ready at                                                 <span style=\"color: #7f7f7f; text-decoration-color: #7f7f7f\">                        </span>\n",
              "<span style=\"color: #7fbfbf; text-decoration-color: #7fbfbf\">                    </span>         <span style=\"color: #008000; text-decoration-color: #008000\">'/content/media/videos/content/480p15/DataRepresentation.mp4'</span> <span style=\"color: #7f7f7f; text-decoration-color: #7f7f7f\">                        </span>\n",
              "<span style=\"color: #7fbfbf; text-decoration-color: #7fbfbf\">                    </span>                                                                       <span style=\"color: #7f7f7f; text-decoration-color: #7f7f7f\">                        </span>\n",
              "</pre>\n"
            ]
          },
          "metadata": {}
        },
        {
          "output_type": "display_data",
          "data": {
            "text/plain": [
              "\u001b[2;36m                   \u001b[0m\u001b[2;36m \u001b[0m\u001b[32mINFO    \u001b[0m \u001b[1;33mRendered\u001b[0m DataRepresentation                                               \u001b]8;id=286395;file:///usr/local/lib/python3.12/dist-packages/manim/scene/scene.py\u001b\\\u001b[2mscene.py\u001b[0m\u001b]8;;\u001b\\\u001b[2m:\u001b[0m\u001b]8;id=985366;file:///usr/local/lib/python3.12/dist-packages/manim/scene/scene.py#255\u001b\\\u001b[2m255\u001b[0m\u001b]8;;\u001b\\\n",
              "\u001b[2;36m                    \u001b[0m         \u001b[1;33mPlayed\u001b[0m \u001b[32m1\u001b[0m \u001b[1;33manimations\u001b[0m                                                       \u001b[2m            \u001b[0m\n"
            ],
            "text/html": [
              "<pre style=\"white-space:pre;overflow-x:auto;line-height:normal;font-family:Menlo,'DejaVu Sans Mono',consolas,'Courier New',monospace\"><span style=\"color: #7fbfbf; text-decoration-color: #7fbfbf\">                    </span><span style=\"color: #008000; text-decoration-color: #008000\">INFO    </span> <span style=\"color: #808000; text-decoration-color: #808000; font-weight: bold\">Rendered</span> DataRepresentation                                               <a href=\"file:///usr/local/lib/python3.12/dist-packages/manim/scene/scene.py\" target=\"_blank\"><span style=\"color: #7f7f7f; text-decoration-color: #7f7f7f\">scene.py</span></a><span style=\"color: #7f7f7f; text-decoration-color: #7f7f7f\">:</span><a href=\"file:///usr/local/lib/python3.12/dist-packages/manim/scene/scene.py#255\" target=\"_blank\"><span style=\"color: #7f7f7f; text-decoration-color: #7f7f7f\">255</span></a>\n",
              "<span style=\"color: #7fbfbf; text-decoration-color: #7fbfbf\">                    </span>         <span style=\"color: #808000; text-decoration-color: #808000; font-weight: bold\">Played</span> <span style=\"color: #008000; text-decoration-color: #008000\">1</span> <span style=\"color: #808000; text-decoration-color: #808000; font-weight: bold\">animations</span>                                                       <span style=\"color: #7f7f7f; text-decoration-color: #7f7f7f\">            </span>\n",
              "</pre>\n"
            ]
          },
          "metadata": {}
        },
        {
          "output_type": "display_data",
          "data": {
            "text/plain": [
              "\u001b[2;36m                   \u001b[0m\u001b[2;36m \u001b[0m\u001b[32mINFO    \u001b[0m Previewed \u001b[1;33mFile\u001b[0m at:                                                     \u001b]8;id=637767;file:///usr/local/lib/python3.12/dist-packages/manim/utils/file_ops.py\u001b\\\u001b[2mfile_ops.py\u001b[0m\u001b]8;;\u001b\\\u001b[2m:\u001b[0m\u001b]8;id=504716;file:///usr/local/lib/python3.12/dist-packages/manim/utils/file_ops.py#237\u001b\\\u001b[2m237\u001b[0m\u001b]8;;\u001b\\\n",
              "\u001b[2;36m                    \u001b[0m         \u001b[32m'/content/media/videos/content/480p15/DataRepresentation.mp4'\u001b[0m          \u001b[2m               \u001b[0m\n"
            ],
            "text/html": [
              "<pre style=\"white-space:pre;overflow-x:auto;line-height:normal;font-family:Menlo,'DejaVu Sans Mono',consolas,'Courier New',monospace\"><span style=\"color: #7fbfbf; text-decoration-color: #7fbfbf\">                    </span><span style=\"color: #008000; text-decoration-color: #008000\">INFO    </span> Previewed <span style=\"color: #808000; text-decoration-color: #808000; font-weight: bold\">File</span> at:                                                     <a href=\"file:///usr/local/lib/python3.12/dist-packages/manim/utils/file_ops.py\" target=\"_blank\"><span style=\"color: #7f7f7f; text-decoration-color: #7f7f7f\">file_ops.py</span></a><span style=\"color: #7f7f7f; text-decoration-color: #7f7f7f\">:</span><a href=\"file:///usr/local/lib/python3.12/dist-packages/manim/utils/file_ops.py#237\" target=\"_blank\"><span style=\"color: #7f7f7f; text-decoration-color: #7f7f7f\">237</span></a>\n",
              "<span style=\"color: #7fbfbf; text-decoration-color: #7fbfbf\">                    </span>         <span style=\"color: #008000; text-decoration-color: #008000\">'/content/media/videos/content/480p15/DataRepresentation.mp4'</span>          <span style=\"color: #7f7f7f; text-decoration-color: #7f7f7f\">               </span>\n",
              "</pre>\n"
            ]
          },
          "metadata": {}
        },
        {
          "output_type": "display_data",
          "data": {
            "text/plain": [
              "<IPython.core.display.Video object>"
            ],
            "text/html": [
              "<video controls autoplay loop style=\"max-width: 60%;\"  >\n",
              " <source src=\"data:video/mp4;base64,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\" type=\"video/mp4\">\n",
              " Your browser does not support the video tag.\n",
              " </video>"
            ]
          },
          "metadata": {}
        }
      ]
    }
  ]
}