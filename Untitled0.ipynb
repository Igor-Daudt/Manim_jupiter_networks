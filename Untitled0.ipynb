{
  "nbformat": 4,
  "nbformat_minor": 0,
  "metadata": {
    "colab": {
      "provenance": [],
      "authorship_tag": "ABX9TyM4k1zJGhqqgOdk+XgLU34r",
      "include_colab_link": true
    },
    "kernelspec": {
      "name": "python3",
      "display_name": "Python 3"
    },
    "language_info": {
      "name": "python"
    }
  },
  "cells": [
    {
      "cell_type": "markdown",
      "metadata": {
        "id": "view-in-github",
        "colab_type": "text"
      },
      "source": [
        "<a href=\"https://colab.research.google.com/github/Igor-Daudt/Manim_jupiter_networks/blob/main/Untitled0.ipynb\" target=\"_parent\"><img src=\"https://colab.research.google.com/assets/colab-badge.svg\" alt=\"Open In Colab\"/></a>"
      ]
    },
    {
      "cell_type": "code",
      "source": [
        "#!sudo apt update\n",
        "#!sudo apt install libcairo2-dev \\\n",
        "#    texlive texlive-latex-extra texlive-fonts-extra \\\n",
        "#    texlive-latex-recommended texlive-science \\\n",
        "#    tipa libpango1.0-dev\n",
        "#!pip install manim"
      ],
      "metadata": {
        "id": "uVLPQyKzWlyd"
      },
      "execution_count": 1,
      "outputs": []
    },
    {
      "cell_type": "code",
      "execution_count": 2,
      "metadata": {
        "id": "hPVfgg_sHEZU"
      },
      "outputs": [],
      "source": [
        "from manim import *\n",
        "from pandas import read_csv\n",
        "from math import floor\n",
        "from random import sample, random"
      ]
    },
    {
      "cell_type": "code",
      "source": [
        "\n",
        "class DataMatrix(VGroup):\n",
        "    def __init__(\n",
        "        self,\n",
        "        data,\n",
        "        num_rows,\n",
        "        cell_width = 1.0,\n",
        "        cell_height = 1.0,\n",
        "        rows_margin = 0.0,\n",
        "        cols_margin = 0.0,\n",
        "        stroke_width = 2.0,\n",
        "        font_size = 24,\n",
        "        font_type = \"Century\",\n",
        "        color_mode = False,\n",
        "        **kwargs\n",
        "    ):\n",
        "        super().__init__(**kwargs)\n",
        "\n",
        "        self.num_rows, self.num_cols = num_rows, int(len(data) / num_rows)\n",
        "        self.cell_width = cell_width\n",
        "        self.cell_height = cell_height\n",
        "        self.rows_margin = rows_margin\n",
        "        self.cols_margin = cols_margin\n",
        "        self.font_size = font_size\n",
        "        self.font_type = font_type\n",
        "        self.matrix_data = data.copy()\n",
        "        self.stroke_width = stroke_width\n",
        "        self.color_mode = color_mode\n",
        "\n",
        "        self.build_matrix()\n",
        "\n",
        "    def build_matrix(self):\n",
        "        self.submobjects.clear()\n",
        "\n",
        "        for i in range(self.num_rows):\n",
        "            row = VGroup()\n",
        "            for j in range(self.num_cols):\n",
        "                row.add(Rectangle(\n",
        "                    width = self.cell_width,\n",
        "                    height = self.cell_height,\n",
        "                    stroke_color = WHITE\n",
        "                ).set_stroke(width = self.stroke_width))\n",
        "\n",
        "                if self.color_mode:\n",
        "                    row[j].set_fill(color = WHITE, opacity = self.matrix_data[i * self.num_cols + j])\n",
        "                else:\n",
        "                    row[j].add(Text(text = self.matrix_data[i * self.num_cols + j], font = self.font_type, font_size = self.font_size))\n",
        "\n",
        "            row.arrange(RIGHT, buff = self.cols_margin)\n",
        "            self.add(row)\n",
        "\n",
        "        self.arrange(DOWN, buff = self.rows_margin)\n",
        "        self.move_to(ORIGIN)\n",
        "\n",
        "    def set_text_mode(self):\n",
        "        self.color_mode = False\n",
        "        self.build_matrix()\n",
        "\n",
        "    def set_color_mode(self):\n",
        "        self.color_mode = True\n",
        "        self.build_matrix()\n",
        "\n",
        "class SurroundingRectangleGL(Rectangle):\n",
        "    def __init__(self, mobjects, buff=0, **kwargs):\n",
        "        if not isinstance(mobjects, Mobject):\n",
        "            mobjects = VGroup(*mobjects)\n",
        "\n",
        "        super().__init__(width = mobjects.width + 2 * buff, height = mobjects.height + 2 * buff, **kwargs)\n",
        "        self.move_to(mobjects.get_center())\n"
      ],
      "metadata": {
        "id": "ES-fuTuvNnTY"
      },
      "execution_count": 42,
      "outputs": []
    },
    {
      "cell_type": "code",
      "source": [
        "def create_colored_neuron(radius_lenght = 1.0, color = BLUE, fill_color = WHITE, opacity = 0):\n",
        "    return Circle(radius = radius_lenght, color = color).set_fill(color = fill_color, opacity = opacity)\n",
        "\n",
        "def create_rectangle_with_text(text, font_type, font_size, side_length = 2.0, func_square = lambda x: x, func_text = lambda x: x):\n",
        "    sq = Square(side_length = side_length)\n",
        "    func_square(sq)\n",
        "\n",
        "    text = Text(text = text, font=font_type, font_size = font_size)\n",
        "    func_text(text)\n",
        "\n",
        "    sq.add(text)\n",
        "    return sq\n",
        "\n",
        "def normalize_values(listRGB):\n",
        "    return list(map(lambda x: round(x / 255, 1), listRGB))\n",
        "\n",
        "def format_values(list_numbers, simplify = True):\n",
        "    return list(map(lambda x: format_value(x, simplify), list_numbers))\n",
        "\n",
        "def format_value(number, simplify):\n",
        "    out = \"\"\n",
        "    if number == 0:\n",
        "        return \"0\"\n",
        "    elif number == 1:\n",
        "        return \"1\"\n",
        "    elif simplify:\n",
        "        out = str(number).replace(\"0.\", \"\")\n",
        "    else:\n",
        "        out = str(number).replace(\".\", \"\")\n",
        "    return f\",{out}\"\n",
        "\n",
        "def arrange_list(data : VGroup, num_cols, column_direction = RIGHT,  column_buff = 0):\n",
        "    out = VGroup()\n",
        "    size = len(data.submobjects)\n",
        "    index = 0\n",
        "    while index < size:\n",
        "        aux = VGroup()\n",
        "        for i in range(num_cols):\n",
        "            if index < size:\n",
        "               aux.add(data[index])\n",
        "            index += 1\n",
        "        aux.arrange(direction = column_direction, buff = column_buff)\n",
        "        out.add(aux)\n",
        "    return out\n",
        "\n",
        "def sucession_animations(animation, object_list, delay):\n",
        "    current_delay = 0\n",
        "    sucessions_functions = list()\n",
        "    for obj in object_list:\n",
        "        sucessions_functions.append(Succession(\n",
        "            Wait(current_delay),\n",
        "            animation(obj)))\n",
        "        current_delay += delay\n",
        "    return sucessions_functions\n",
        "\n",
        "# create_groups_connection: Each object of group 2 is connected to every object from group1\n",
        "def create_groups_connection(group1, group2, func_reference1, func_reference2, **kwargs):\n",
        "    output = VGroup()\n",
        "    for i in group2:\n",
        "        for j in group1:\n",
        "            output.add(Line(func_reference1(j), func_reference2(i), **kwargs))\n",
        "\n",
        "def animate_half_lines(lines, line_width = 2, run_time= 1.5, animation_time = 1):\n",
        "    selected = sample(list(lines), k=len(lines)//2)\n",
        "\n",
        "    animations = []\n",
        "    for line in selected:\n",
        "        highlight = line.copy()\n",
        "        highlight.set_stroke(color=BLUE, width=line_width)\n",
        "\n",
        "        anim = ShowPassingFlash(\n",
        "            highlight,\n",
        "            time_width=animation_time,\n",
        "            run_time=run_time,\n",
        "            rate_func = linear\n",
        "        )\n",
        "        animations.append(anim)\n",
        "\n",
        "    return animations\n",
        "\n",
        "def animate_neurons(circles, run_time = 1.5):\n",
        "    animations = []\n",
        "    for i in range(len(circles)):\n",
        "        activation = pow(random(), 2)\n",
        "        activated_circle = circles[i].copy()\n",
        "        activated_circle.set_fill(color = WHITE, opacity = activation)\n",
        "\n",
        "        animations.append(Transform(circles[i], activated_circle, run_time = run_time))\n",
        "\n",
        "    return animations\n",
        "\n",
        "def animate_output(circles, label, run_time = 1.5):\n",
        "    animations = []\n",
        "    for i in range(len(circles)):\n",
        "        if i == label:\n",
        "            activation = 1 - random() / 10\n",
        "        else:\n",
        "            activation = random() / 7\n",
        "        activated_circle = circles[i].copy()\n",
        "        activated_circle.set_fill(color = WHITE, opacity = activation)\n",
        "\n",
        "        animations.append(Transform(circles[i], activated_circle, run_time = run_time))\n",
        "\n",
        "    return animations\n",
        "\n",
        "\n"
      ],
      "metadata": {
        "id": "mj3JFwu5MTQ2"
      },
      "execution_count": 43,
      "outputs": []
    },
    {
      "cell_type": "code",
      "source": [
        "# Global variables to control the view\n",
        "FONT_SIZE_TITLE = 46\n",
        "FONT_TYPE = \"Go\" # Century\n",
        "NUM_ROWS_MNIST = 28 # 28\n",
        "NUM_COLUMNS_MNIST = 28 # 28\n",
        "\n",
        "\n",
        "# Variables to control the logic\n",
        "csv_file = read_csv(\"sample_data/mnist_test.csv\", header = None)\n",
        "labels = csv_file.iloc[:10, 0].values.tolist()\n",
        "images = csv_file.iloc[:10, 1:].values.tolist()\n",
        "\n",
        "pixels_normalized = [normalize_values(i) for i in images]\n",
        "format_pixels_values = [format_values(i) for i in pixels_normalized]"
      ],
      "metadata": {
        "id": "9haaOBvuMeNp"
      },
      "execution_count": 5,
      "outputs": []
    },
    {
      "cell_type": "code",
      "source": [
        "%%manim -pql  DataRepresentation\n",
        "\n",
        "def list_to_matrix(data, num_rows = 28, num_cols = 28):\n",
        "  out = []\n",
        "  for i in range(int(len(data)/num_rows)):\n",
        "    out.append(data[i*num_cols:(i+1)*num_cols])\n",
        "\n",
        "  return out\n",
        "\n",
        "def matrix_to_list(data):\n",
        "  out = []\n",
        "  for row in data:\n",
        "    for column in row:\n",
        "      out.append(column)\n",
        "\n",
        "  return out\n",
        "\n",
        "csv_parcial_data = read_csv(\"sample_data/digits.csv\", header = None)\n",
        "parcial_data_pixels = csv_parcial_data.iloc[:4, :].values.tolist()\n",
        "\n",
        "class DataRepresentation(Scene):\n",
        "  def construct(self):\n",
        "      CONFIG = {\n",
        "          \"cell_side\" : 0.05,\n",
        "          \"square_margin\" : 0.2,\n",
        "      }\n",
        "      title_text = MarkupText(\"Primeira Camada Oculta\", font = FONT_TYPE, font_size = FONT_SIZE_TITLE)\n",
        "      data_layer_hidden1 = []\n",
        "      data_layer_hidden2 = VGroup(*[DataMatrix(i, num_rows = NUM_ROWS_MNIST, cell_width = CONFIG[\"cell_side\"], cell_height = CONFIG[\"cell_side\"], stroke_width = 0, color_mode = True) for i in parcial_data_pixels])\n",
        "\n",
        "      data_layer_hidden2 = arrange_list(data_layer_hidden2, 3, column_buff = CONFIG[\"square_margin\"]).arrange(direction = DOWN)\n",
        "      matriz = [[1, 2, 3],\n",
        "          [4, 5, 6],\n",
        "          [7, 8, 9]]\n",
        "\n",
        "      surrounding_boxes2 = [SurroundingRectangleGL(elem) for row in data_layer_hidden2 for elem in row]\n",
        "\n",
        "      self.add(data_layer_hidden2, *surrounding_boxes2)\n",
        "\n",
        "      self.interactive_embed()\n",
        "\n",
        "\n",
        "\n",
        "\n",
        "\n",
        "      for i in range(1, 2):\n",
        "        for j in list_to_matrix(pixels_normalized[i]):\n",
        "          print(j)"
      ],
      "metadata": {
        "colab": {
          "base_uri": "https://localhost:8080/",
          "height": 1000
        },
        "id": "hFXBU1dfoq1X",
        "outputId": "8367254f-80e9-4378-b5f4-b84920275388"
      },
      "execution_count": 48,
      "outputs": [
        {
          "output_type": "display_data",
          "data": {
            "text/plain": [
              "Manim Community \u001b[32mv0.\u001b[0m\u001b[32m19.0\u001b[0m\n",
              "\n"
            ],
            "text/html": [
              "<pre style=\"white-space:pre;overflow-x:auto;line-height:normal;font-family:Menlo,'DejaVu Sans Mono',consolas,'Courier New',monospace\">Manim Community <span style=\"color: #008000; text-decoration-color: #008000\">v0.19.0</span>\n",
              "\n",
              "</pre>\n"
            ]
          },
          "metadata": {}
        },
        {
          "output_type": "display_data",
          "data": {
            "text/plain": [
              "\u001b[2;36m[08/18/2025 09:18:07 PM]\u001b[0m\u001b[2;36m \u001b[0m\u001b[31mWARNING \u001b[0m Disabling interactive embed as \u001b[32m'write_to_movie'\u001b[0m is enabled          \u001b]8;id=979936;file:///usr/local/lib/python3.11/dist-packages/manim/scene/scene.py\u001b\\\u001b[2mscene.py\u001b[0m\u001b]8;;\u001b\\\u001b[2m:\u001b[0m\u001b]8;id=270732;file:///usr/local/lib/python3.11/dist-packages/manim/scene/scene.py#1320\u001b\\\u001b[2m1320\u001b[0m\u001b]8;;\u001b\\\n"
            ],
            "text/html": [
              "<pre style=\"white-space:pre;overflow-x:auto;line-height:normal;font-family:Menlo,'DejaVu Sans Mono',consolas,'Courier New',monospace\"><span style=\"color: #7fbfbf; text-decoration-color: #7fbfbf\">[08/18/2025 09:18:07 PM] </span><span style=\"color: #800000; text-decoration-color: #800000\">WARNING </span> Disabling interactive embed as <span style=\"color: #008000; text-decoration-color: #008000\">'write_to_movie'</span> is enabled          <a href=\"file:///usr/local/lib/python3.11/dist-packages/manim/scene/scene.py\" target=\"_blank\"><span style=\"color: #7f7f7f; text-decoration-color: #7f7f7f\">scene.py</span></a><span style=\"color: #7f7f7f; text-decoration-color: #7f7f7f\">:</span><a href=\"file:///usr/local/lib/python3.11/dist-packages/manim/scene/scene.py#1320\" target=\"_blank\"><span style=\"color: #7f7f7f; text-decoration-color: #7f7f7f\">1320</span></a>\n",
              "</pre>\n"
            ]
          },
          "metadata": {}
        },
        {
          "output_type": "stream",
          "name": "stdout",
          "text": [
            "[0.0, 0.0, 0.0, 0.0, 0.0, 0.0, 0.0, 0.0, 0.0, 0.0, 0.0, 0.0, 0.0, 0.0, 0.0, 0.0, 0.0, 0.0, 0.0, 0.0, 0.0, 0.0, 0.0, 0.0, 0.0, 0.0, 0.0, 0.0]\n",
            "[0.0, 0.0, 0.0, 0.0, 0.0, 0.0, 0.0, 0.0, 0.0, 0.0, 0.0, 0.0, 0.0, 0.0, 0.0, 0.0, 0.0, 0.0, 0.0, 0.0, 0.0, 0.0, 0.0, 0.0, 0.0, 0.0, 0.0, 0.0]\n",
            "[0.0, 0.0, 0.0, 0.0, 0.0, 0.0, 0.0, 0.0, 0.0, 0.0, 0.0, 0.0, 0.0, 0.0, 0.0, 0.0, 0.0, 0.0, 0.0, 0.0, 0.0, 0.0, 0.0, 0.0, 0.0, 0.0, 0.0, 0.0]\n",
            "[0.0, 0.0, 0.0, 0.0, 0.0, 0.0, 0.0, 0.0, 0.0, 0.0, 0.5, 0.5, 0.7, 1.0, 1.0, 0.6, 0.4, 0.0, 0.0, 0.0, 0.0, 0.0, 0.0, 0.0, 0.0, 0.0, 0.0, 0.0]\n",
            "[0.0, 0.0, 0.0, 0.0, 0.0, 0.0, 0.0, 0.0, 0.0, 0.7, 1.0, 1.0, 1.0, 1.0, 1.0, 1.0, 0.9, 0.1, 0.0, 0.0, 0.0, 0.0, 0.0, 0.0, 0.0, 0.0, 0.0, 0.0]\n",
            "[0.0, 0.0, 0.0, 0.0, 0.0, 0.0, 0.0, 0.0, 0.7, 1.0, 1.0, 1.0, 0.8, 0.6, 0.7, 1.0, 1.0, 0.5, 0.0, 0.0, 0.0, 0.0, 0.0, 0.0, 0.0, 0.0, 0.0, 0.0]\n",
            "[0.0, 0.0, 0.0, 0.0, 0.0, 0.0, 0.0, 0.2, 1.0, 1.0, 0.8, 0.1, 0.0, 0.0, 0.0, 0.8, 1.0, 0.5, 0.0, 0.0, 0.0, 0.0, 0.0, 0.0, 0.0, 0.0, 0.0, 0.0]\n",
            "[0.0, 0.0, 0.0, 0.0, 0.0, 0.0, 0.0, 0.3, 1.0, 0.8, 0.1, 0.0, 0.0, 0.0, 0.5, 1.0, 1.0, 0.3, 0.0, 0.0, 0.0, 0.0, 0.0, 0.0, 0.0, 0.0, 0.0, 0.0]\n",
            "[0.0, 0.0, 0.0, 0.0, 0.0, 0.0, 0.0, 0.0, 0.1, 0.1, 0.0, 0.0, 0.0, 0.0, 0.8, 1.0, 1.0, 0.3, 0.0, 0.0, 0.0, 0.0, 0.0, 0.0, 0.0, 0.0, 0.0, 0.0]\n",
            "[0.0, 0.0, 0.0, 0.0, 0.0, 0.0, 0.0, 0.0, 0.0, 0.0, 0.0, 0.0, 0.0, 0.5, 1.0, 1.0, 0.8, 0.0, 0.0, 0.0, 0.0, 0.0, 0.0, 0.0, 0.0, 0.0, 0.0, 0.0]\n",
            "[0.0, 0.0, 0.0, 0.0, 0.0, 0.0, 0.0, 0.0, 0.0, 0.0, 0.0, 0.0, 0.3, 1.0, 1.0, 0.9, 0.2, 0.0, 0.0, 0.0, 0.0, 0.0, 0.0, 0.0, 0.0, 0.0, 0.0, 0.0]\n",
            "[0.0, 0.0, 0.0, 0.0, 0.0, 0.0, 0.0, 0.0, 0.0, 0.0, 0.0, 0.0, 0.5, 1.0, 1.0, 0.6, 0.0, 0.0, 0.0, 0.0, 0.0, 0.0, 0.0, 0.0, 0.0, 0.0, 0.0, 0.0]\n",
            "[0.0, 0.0, 0.0, 0.0, 0.0, 0.0, 0.0, 0.0, 0.0, 0.0, 0.0, 0.7, 1.0, 1.0, 0.6, 0.0, 0.0, 0.0, 0.0, 0.0, 0.0, 0.0, 0.0, 0.0, 0.0, 0.0, 0.0, 0.0]\n",
            "[0.0, 0.0, 0.0, 0.0, 0.0, 0.0, 0.0, 0.0, 0.0, 0.0, 0.1, 0.9, 1.0, 0.9, 0.1, 0.0, 0.0, 0.0, 0.0, 0.0, 0.0, 0.0, 0.0, 0.0, 0.0, 0.0, 0.0, 0.0]\n",
            "[0.0, 0.0, 0.0, 0.0, 0.0, 0.0, 0.0, 0.0, 0.0, 0.0, 0.8, 1.0, 1.0, 0.6, 0.0, 0.0, 0.0, 0.0, 0.0, 0.0, 0.0, 0.0, 0.0, 0.0, 0.0, 0.0, 0.0, 0.0]\n",
            "[0.0, 0.0, 0.0, 0.0, 0.0, 0.0, 0.0, 0.0, 0.0, 0.3, 1.0, 1.0, 0.7, 0.0, 0.0, 0.0, 0.0, 0.0, 0.0, 0.0, 0.0, 0.0, 0.0, 0.0, 0.0, 0.0, 0.0, 0.0]\n",
            "[0.0, 0.0, 0.0, 0.0, 0.0, 0.0, 0.0, 0.0, 0.1, 0.8, 1.0, 1.0, 0.6, 0.0, 0.0, 0.0, 0.0, 0.0, 0.0, 0.0, 0.0, 0.0, 0.0, 0.0, 0.0, 0.0, 0.0, 0.0]\n",
            "[0.0, 0.0, 0.0, 0.0, 0.0, 0.0, 0.0, 0.0, 0.5, 1.0, 1.0, 0.7, 0.0, 0.0, 0.0, 0.0, 0.0, 0.0, 0.0, 0.0, 0.0, 0.0, 0.0, 0.0, 0.0, 0.0, 0.0, 0.0]\n",
            "[0.0, 0.0, 0.0, 0.0, 0.0, 0.0, 0.0, 0.0, 1.0, 1.0, 1.0, 0.1, 0.0, 0.0, 0.0, 0.0, 0.0, 0.0, 0.0, 0.0, 0.0, 0.0, 0.0, 0.0, 0.0, 0.0, 0.0, 0.0]\n",
            "[0.0, 0.0, 0.0, 0.0, 0.0, 0.0, 0.0, 0.0, 1.0, 1.0, 1.0, 0.2, 0.1, 0.1, 0.1, 0.1, 0.0, 0.0, 0.0, 0.1, 0.1, 0.1, 0.6, 0.6, 0.6, 0.6, 0.0, 0.0]\n",
            "[0.0, 0.0, 0.0, 0.0, 0.0, 0.0, 0.0, 0.0, 1.0, 1.0, 1.0, 1.0, 1.0, 1.0, 1.0, 1.0, 0.7, 0.6, 0.7, 1.0, 1.0, 1.0, 1.0, 1.0, 1.0, 1.0, 0.5, 0.0]\n",
            "[0.0, 0.0, 0.0, 0.0, 0.0, 0.0, 0.0, 0.0, 0.7, 1.0, 1.0, 1.0, 1.0, 1.0, 1.0, 1.0, 1.0, 1.0, 1.0, 1.0, 1.0, 1.0, 1.0, 0.7, 0.5, 0.5, 0.2, 0.0]\n",
            "[0.0, 0.0, 0.0, 0.0, 0.0, 0.0, 0.0, 0.0, 0.0, 0.5, 0.5, 0.5, 0.5, 0.7, 1.0, 1.0, 1.0, 0.6, 0.5, 0.5, 0.2, 0.0, 0.0, 0.0, 0.0, 0.0, 0.0, 0.0]\n",
            "[0.0, 0.0, 0.0, 0.0, 0.0, 0.0, 0.0, 0.0, 0.0, 0.0, 0.0, 0.0, 0.0, 0.0, 0.0, 0.0, 0.0, 0.0, 0.0, 0.0, 0.0, 0.0, 0.0, 0.0, 0.0, 0.0, 0.0, 0.0]\n",
            "[0.0, 0.0, 0.0, 0.0, 0.0, 0.0, 0.0, 0.0, 0.0, 0.0, 0.0, 0.0, 0.0, 0.0, 0.0, 0.0, 0.0, 0.0, 0.0, 0.0, 0.0, 0.0, 0.0, 0.0, 0.0, 0.0, 0.0, 0.0]\n",
            "[0.0, 0.0, 0.0, 0.0, 0.0, 0.0, 0.0, 0.0, 0.0, 0.0, 0.0, 0.0, 0.0, 0.0, 0.0, 0.0, 0.0, 0.0, 0.0, 0.0, 0.0, 0.0, 0.0, 0.0, 0.0, 0.0, 0.0, 0.0]\n",
            "[0.0, 0.0, 0.0, 0.0, 0.0, 0.0, 0.0, 0.0, 0.0, 0.0, 0.0, 0.0, 0.0, 0.0, 0.0, 0.0, 0.0, 0.0, 0.0, 0.0, 0.0, 0.0, 0.0, 0.0, 0.0, 0.0, 0.0, 0.0]\n",
            "[0.0, 0.0, 0.0, 0.0, 0.0, 0.0, 0.0, 0.0, 0.0, 0.0, 0.0, 0.0, 0.0, 0.0, 0.0, 0.0, 0.0, 0.0, 0.0, 0.0, 0.0, 0.0, 0.0, 0.0, 0.0, 0.0, 0.0, 0.0]\n"
          ]
        },
        {
          "output_type": "display_data",
          "data": {
            "text/plain": [
              "\u001b[2;36m                        \u001b[0m\u001b[2;36m \u001b[0m\u001b[32mINFO    \u001b[0m                                                          \u001b]8;id=420216;file:///usr/local/lib/python3.11/dist-packages/manim/scene/scene_file_writer.py\u001b\\\u001b[2mscene_file_writer.py\u001b[0m\u001b]8;;\u001b\\\u001b[2m:\u001b[0m\u001b]8;id=130581;file:///usr/local/lib/python3.11/dist-packages/manim/scene/scene_file_writer.py#886\u001b\\\u001b[2m886\u001b[0m\u001b]8;;\u001b\\\n",
              "\u001b[2;36m                         \u001b[0m         \u001b[1;33mFile\u001b[0m ready at                                            \u001b[2m                        \u001b[0m\n",
              "\u001b[2;36m                         \u001b[0m         \u001b[32m'/content/media/images/content/DataRepresentation_ManimC\u001b[0m \u001b[2m                        \u001b[0m\n",
              "\u001b[2;36m                         \u001b[0m         \u001b[32mE_v0.19.0.png'\u001b[0m                                           \u001b[2m                        \u001b[0m\n",
              "\u001b[2;36m                         \u001b[0m                                                                  \u001b[2m                        \u001b[0m\n"
            ],
            "text/html": [
              "<pre style=\"white-space:pre;overflow-x:auto;line-height:normal;font-family:Menlo,'DejaVu Sans Mono',consolas,'Courier New',monospace\"><span style=\"color: #7fbfbf; text-decoration-color: #7fbfbf\">                         </span><span style=\"color: #008000; text-decoration-color: #008000\">INFO    </span>                                                          <a href=\"file:///usr/local/lib/python3.11/dist-packages/manim/scene/scene_file_writer.py\" target=\"_blank\"><span style=\"color: #7f7f7f; text-decoration-color: #7f7f7f\">scene_file_writer.py</span></a><span style=\"color: #7f7f7f; text-decoration-color: #7f7f7f\">:</span><a href=\"file:///usr/local/lib/python3.11/dist-packages/manim/scene/scene_file_writer.py#886\" target=\"_blank\"><span style=\"color: #7f7f7f; text-decoration-color: #7f7f7f\">886</span></a>\n",
              "<span style=\"color: #7fbfbf; text-decoration-color: #7fbfbf\">                         </span>         <span style=\"color: #808000; text-decoration-color: #808000; font-weight: bold\">File</span> ready at                                            <span style=\"color: #7f7f7f; text-decoration-color: #7f7f7f\">                        </span>\n",
              "<span style=\"color: #7fbfbf; text-decoration-color: #7fbfbf\">                         </span>         <span style=\"color: #008000; text-decoration-color: #008000\">'/content/media/images/content/DataRepresentation_ManimC</span> <span style=\"color: #7f7f7f; text-decoration-color: #7f7f7f\">                        </span>\n",
              "<span style=\"color: #7fbfbf; text-decoration-color: #7fbfbf\">                         </span>         <span style=\"color: #008000; text-decoration-color: #008000\">E_v0.19.0.png'</span>                                           <span style=\"color: #7f7f7f; text-decoration-color: #7f7f7f\">                        </span>\n",
              "<span style=\"color: #7fbfbf; text-decoration-color: #7fbfbf\">                         </span>                                                                  <span style=\"color: #7f7f7f; text-decoration-color: #7f7f7f\">                        </span>\n",
              "</pre>\n"
            ]
          },
          "metadata": {}
        },
        {
          "output_type": "display_data",
          "data": {
            "text/plain": [
              "\u001b[2;36m                        \u001b[0m\u001b[2;36m \u001b[0m\u001b[32mINFO    \u001b[0m \u001b[1;33mRendered\u001b[0m DataRepresentation                                          \u001b]8;id=615112;file:///usr/local/lib/python3.11/dist-packages/manim/scene/scene.py\u001b\\\u001b[2mscene.py\u001b[0m\u001b]8;;\u001b\\\u001b[2m:\u001b[0m\u001b]8;id=108754;file:///usr/local/lib/python3.11/dist-packages/manim/scene/scene.py#255\u001b\\\u001b[2m255\u001b[0m\u001b]8;;\u001b\\\n",
              "\u001b[2;36m                         \u001b[0m         \u001b[1;33mPlayed\u001b[0m \u001b[32m0\u001b[0m \u001b[1;33manimations\u001b[0m                                                  \u001b[2m            \u001b[0m\n"
            ],
            "text/html": [
              "<pre style=\"white-space:pre;overflow-x:auto;line-height:normal;font-family:Menlo,'DejaVu Sans Mono',consolas,'Courier New',monospace\"><span style=\"color: #7fbfbf; text-decoration-color: #7fbfbf\">                         </span><span style=\"color: #008000; text-decoration-color: #008000\">INFO    </span> <span style=\"color: #808000; text-decoration-color: #808000; font-weight: bold\">Rendered</span> DataRepresentation                                          <a href=\"file:///usr/local/lib/python3.11/dist-packages/manim/scene/scene.py\" target=\"_blank\"><span style=\"color: #7f7f7f; text-decoration-color: #7f7f7f\">scene.py</span></a><span style=\"color: #7f7f7f; text-decoration-color: #7f7f7f\">:</span><a href=\"file:///usr/local/lib/python3.11/dist-packages/manim/scene/scene.py#255\" target=\"_blank\"><span style=\"color: #7f7f7f; text-decoration-color: #7f7f7f\">255</span></a>\n",
              "<span style=\"color: #7fbfbf; text-decoration-color: #7fbfbf\">                         </span>         <span style=\"color: #808000; text-decoration-color: #808000; font-weight: bold\">Played</span> <span style=\"color: #008000; text-decoration-color: #008000\">0</span> <span style=\"color: #808000; text-decoration-color: #808000; font-weight: bold\">animations</span>                                                  <span style=\"color: #7f7f7f; text-decoration-color: #7f7f7f\">            </span>\n",
              "</pre>\n"
            ]
          },
          "metadata": {}
        },
        {
          "output_type": "display_data",
          "data": {
            "text/plain": [
              "\u001b[2;36m                        \u001b[0m\u001b[2;36m \u001b[0m\u001b[32mINFO    \u001b[0m Previewed \u001b[1;33mFile\u001b[0m at:                                                \u001b]8;id=372631;file:///usr/local/lib/python3.11/dist-packages/manim/utils/file_ops.py\u001b\\\u001b[2mfile_ops.py\u001b[0m\u001b]8;;\u001b\\\u001b[2m:\u001b[0m\u001b]8;id=516698;file:///usr/local/lib/python3.11/dist-packages/manim/utils/file_ops.py#237\u001b\\\u001b[2m237\u001b[0m\u001b]8;;\u001b\\\n",
              "\u001b[2;36m                         \u001b[0m         \u001b[32m'/content/media/images/content/DataRepresentation_ManimCE_v0.19.0\u001b[0m \u001b[2m               \u001b[0m\n",
              "\u001b[2;36m                         \u001b[0m         \u001b[32m.png'\u001b[0m                                                             \u001b[2m               \u001b[0m\n"
            ],
            "text/html": [
              "<pre style=\"white-space:pre;overflow-x:auto;line-height:normal;font-family:Menlo,'DejaVu Sans Mono',consolas,'Courier New',monospace\"><span style=\"color: #7fbfbf; text-decoration-color: #7fbfbf\">                         </span><span style=\"color: #008000; text-decoration-color: #008000\">INFO    </span> Previewed <span style=\"color: #808000; text-decoration-color: #808000; font-weight: bold\">File</span> at:                                                <a href=\"file:///usr/local/lib/python3.11/dist-packages/manim/utils/file_ops.py\" target=\"_blank\"><span style=\"color: #7f7f7f; text-decoration-color: #7f7f7f\">file_ops.py</span></a><span style=\"color: #7f7f7f; text-decoration-color: #7f7f7f\">:</span><a href=\"file:///usr/local/lib/python3.11/dist-packages/manim/utils/file_ops.py#237\" target=\"_blank\"><span style=\"color: #7f7f7f; text-decoration-color: #7f7f7f\">237</span></a>\n",
              "<span style=\"color: #7fbfbf; text-decoration-color: #7fbfbf\">                         </span>         <span style=\"color: #008000; text-decoration-color: #008000\">'/content/media/images/content/DataRepresentation_ManimCE_v0.19.0</span> <span style=\"color: #7f7f7f; text-decoration-color: #7f7f7f\">               </span>\n",
              "<span style=\"color: #7fbfbf; text-decoration-color: #7fbfbf\">                         </span>         <span style=\"color: #008000; text-decoration-color: #008000\">.png'</span>                                                             <span style=\"color: #7f7f7f; text-decoration-color: #7f7f7f\">               </span>\n",
              "</pre>\n"
            ]
          },
          "metadata": {}
        },
        {
          "output_type": "display_data",
          "data": {
            "image/png": "[encoded data removed]",
            "text/plain": [
              "<IPython.core.display.Image object>"
            ]
          },
          "metadata": {}
        }
      ]
    }
  ]
}