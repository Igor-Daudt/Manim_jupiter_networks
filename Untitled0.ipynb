{
  "nbformat": 4,
  "nbformat_minor": 0,
  "metadata": {
    "colab": {
      "provenance": [],
      "authorship_tag": "ABX9TyOjMfE77E6Gk1dRiCOThWuy",
      "include_colab_link": true
    },
    "kernelspec": {
      "name": "python3",
      "display_name": "Python 3"
    },
    "language_info": {
      "name": "python"
    }
  },
  "cells": [
    {
      "cell_type": "markdown",
      "metadata": {
        "id": "view-in-github",
        "colab_type": "text"
      },
      "source": [
        "<a href=\"https://colab.research.google.com/github/Igor-Daudt/Manim_jupiter_networks/blob/main/Untitled0.ipynb\" target=\"_parent\"><img src=\"https://colab.research.google.com/assets/colab-badge.svg\" alt=\"Open In Colab\"/></a>"
      ]
    },
    {
      "cell_type": "code",
      "source": [
        "#!sudo apt update\n",
        "#!sudo apt install libcairo2-dev \\\n",
        "#    texlive texlive-latex-extra texlive-fonts-extra \\\n",
        "#    texlive-latex-recommended texlive-science \\\n",
        "#    tipa libpango1.0-dev\n",
        "#!pip install manim"
      ],
      "metadata": {
        "id": "uVLPQyKzWlyd"
      },
      "execution_count": null,
      "outputs": []
    },
    {
      "cell_type": "code",
      "execution_count": 18,
      "metadata": {
        "id": "hPVfgg_sHEZU"
      },
      "outputs": [],
      "source": [
        "from manim import *\n",
        "from pandas import read_csv\n",
        "from math import floor\n",
        "from random import sample, random"
      ]
    },
    {
      "cell_type": "code",
      "source": [
        "\n",
        "class DataMatrix(VGroup):\n",
        "    def __init__(\n",
        "        self,\n",
        "        data,\n",
        "        num_rows,\n",
        "        cell_width = 1.0,\n",
        "        cell_height = 1.0,\n",
        "        rows_margin = 0.0,\n",
        "        cols_margin = 0.0,\n",
        "        stroke_width = 2.0,\n",
        "        font_size = 24,\n",
        "        font_type = \"Century\",\n",
        "        color_mode = False,\n",
        "        **kwargs\n",
        "    ):\n",
        "        super().__init__(**kwargs)\n",
        "\n",
        "        self.num_rows, self.num_cols = num_rows, int(len(data) / num_rows)\n",
        "        self.cell_width = cell_width\n",
        "        self.cell_height = cell_height\n",
        "        self.rows_margin = rows_margin\n",
        "        self.cols_margin = cols_margin\n",
        "        self.font_size = font_size\n",
        "        self.font_type = font_type\n",
        "        self.matrix_data = data.copy()\n",
        "        self.stroke_width = stroke_width\n",
        "        self.color_mode = color_mode\n",
        "\n",
        "        self.build_matrix()\n",
        "\n",
        "    def build_matrix(self):\n",
        "        self.submobjects.clear()\n",
        "\n",
        "        for i in range(self.num_rows):\n",
        "            row = VGroup()\n",
        "            for j in range(self.num_cols):\n",
        "                row.add(Rectangle(\n",
        "                    width = self.cell_width,\n",
        "                    height = self.cell_height,\n",
        "                    stroke_color = WHITE\n",
        "                ).set_stroke(width = self.stroke_width))\n",
        "\n",
        "                if self.color_mode:\n",
        "                    row[j].set_fill(color = WHITE, opacity = self.matrix_data[i * self.num_cols + j])\n",
        "                else:\n",
        "                    row[j].add(Text(text = str(self.matrix_data[i * self.num_cols + j]), font = self.font_type, font_size = self.font_size))\n",
        "\n",
        "            row.arrange(RIGHT, buff = self.cols_margin)\n",
        "            self.add(row)\n",
        "\n",
        "        self.arrange(DOWN, buff = self.rows_margin)\n",
        "        self.move_to(ORIGIN)\n",
        "\n",
        "class SurroundingRectangleGL(Rectangle):\n",
        "    def __init__(self, mobjects, buff=0, **kwargs):\n",
        "        if not isinstance(mobjects, Mobject):\n",
        "            mobjects = VGroup(*mobjects)\n",
        "\n",
        "        super().__init__(width = mobjects.width + 2 * buff, height = mobjects.height + 2 * buff, **kwargs)\n",
        "        self.move_to(mobjects.get_center())\n",
        "\n",
        "class Column(VGroup):\n",
        "    def __init__(self, mobjects, buff = 0, **kwargs):\n",
        "        if not isinstance(mobjects, Mobject):\n",
        "            mobjects = VGroup(*mobjects)\n",
        "\n",
        "        super().__init__(mobjects, **kwargs)\n",
        "        self.move_to(ORIGIN).arrange(direction = DOWN, buff = buff)\n",
        "\n",
        "class Row(VGroup):\n",
        "    def __init__(self, mobjects, buff = 0, **kwargs):\n",
        "        if not isinstance(mobjects, Mobject):\n",
        "            mobjects = VGroup(*mobjects)\n",
        "\n",
        "        super().__init__(mobjects, **kwargs)\n",
        "        self.move_to(ORIGIN).arrange(direction = RIGHT, buff = buff)\n",
        "\n",
        "class Matrix(VGroup):\n",
        "  def __init__(self, mobjects, num_cols, buff = 0, **kwargs):\n",
        "        if not isinstance(mobjects, Mobject):\n",
        "            mobjects = VGroup(*mobjects)\n",
        "\n",
        "        row_mobjects = []\n",
        "        size = mobjects.size()\n",
        "        index = 0\n",
        "        while index < size:\n",
        "          for j in range(num_cols):\n",
        "            row = VGroup()\n",
        "            if(index < size):\n",
        "              row.add(mobjects[index])\n",
        "            row_mobjects.append(row.arrange(direction = RIGHT, buff = buff))\n",
        "        super().__init__(*row_mobjects, **kwargs)\n",
        "        self.move_to(ORIGIN).arrange(direction = DOWN, buff = buff)"
      ],
      "metadata": {
        "id": "ES-fuTuvNnTY"
      },
      "execution_count": 19,
      "outputs": []
    },
    {
      "cell_type": "code",
      "source": [
        "def create_colored_neuron(radius_lenght = 1.0, color = BLUE, fill_color = WHITE, opacity = 0):\n",
        "    return Circle(radius = radius_lenght, color = color).set_fill(color = fill_color, opacity = opacity)\n",
        "\n",
        "def create_rectangle_with_text(text, font_type, font_size, side_length = 2.0, func_square = lambda x: x, func_text = lambda x: x):\n",
        "    sq = Square(side_length = side_length)\n",
        "    func_square(sq)\n",
        "\n",
        "    text = Text(text = text, font=font_type, font_size = font_size)\n",
        "    func_text(text)\n",
        "\n",
        "    sq.add(text)\n",
        "    return sq\n",
        "\n",
        "def normalize_values(listRGB):\n",
        "    return list(map(lambda x: round(x / 255, 1), listRGB))\n",
        "\n",
        "def format_values(list_numbers, simplify = True):\n",
        "    return list(map(lambda x: format_value(x, simplify), list_numbers))\n",
        "\n",
        "def format_value(number, simplify):\n",
        "    out = \"\"\n",
        "    if number == 0:\n",
        "        return \"0\"\n",
        "    elif number == 1:\n",
        "        return \"1\"\n",
        "    elif simplify:\n",
        "        out = str(number).replace(\"0.\", \"\")\n",
        "    else:\n",
        "        out = str(number).replace(\".\", \"\")\n",
        "    return f\",{out}\"\n",
        "\n",
        "def arrange_list(data : VGroup, num_cols, column_direction = RIGHT,  column_buff = 0):\n",
        "    out = VGroup()\n",
        "    size = len(data.submobjects)\n",
        "    index = 0\n",
        "    while index < size:\n",
        "        aux = VGroup()\n",
        "        for i in range(num_cols):\n",
        "            if index < size:\n",
        "               aux.add(data[index])\n",
        "            index += 1\n",
        "        aux.arrange(direction = column_direction, buff = column_buff)\n",
        "        out.add(aux)\n",
        "    return out\n",
        "\n",
        "def sucession_animations(animation, object_list, delay):\n",
        "    current_delay = 0\n",
        "    sucessions_functions = list()\n",
        "    for obj in object_list:\n",
        "        sucessions_functions.append(Succession(\n",
        "            Wait(current_delay),\n",
        "            animation(obj)))\n",
        "        current_delay += delay\n",
        "    return sucessions_functions\n",
        "\n",
        "# create_groups_connection: Each object of group 2 is connected to every object from group1\n",
        "def create_groups_connection(group1, group2, func_reference1, func_reference2, **kwargs):\n",
        "    output = VGroup()\n",
        "    for i in group2:\n",
        "        for j in group1:\n",
        "            output.add(Line(func_reference1(j), func_reference2(i), **kwargs))\n",
        "\n",
        "def animate_half_lines(lines, line_width = 2, run_time= 1.5, animation_time = 1):\n",
        "    selected = sample(list(lines), k=len(lines)//2)\n",
        "\n",
        "    animations = []\n",
        "    for line in selected:\n",
        "        highlight = line.copy()\n",
        "        highlight.set_stroke(color=BLUE, width=line_width)\n",
        "\n",
        "        anim = ShowPassingFlash(\n",
        "            highlight,\n",
        "            time_width=animation_time,\n",
        "            run_time=run_time,\n",
        "            rate_func = linear\n",
        "        )\n",
        "        animations.append(anim)\n",
        "\n",
        "    return animations\n",
        "\n",
        "def animate_neurons(circles, run_time = 1.5):\n",
        "    return animate_neurons_defined(circles, [pow(random(), 2) for i in range(len(circles))], run_time = run_time)\n",
        "\n",
        "def animate_output(circles, label, run_time = 1.5):\n",
        "    activations = []\n",
        "    for i in range(len(circles)):\n",
        "        if i == label:\n",
        "            activations.append(1 - random() / 10)\n",
        "        else:\n",
        "            activations.append(random() / 7)\n",
        "    return animate_neurons_defined(circles, activations, run_time = run_time)\n",
        "\n",
        "def animate_neurons_defined(circles, desired_values, run_time = 1.5):\n",
        "    animations = []\n",
        "    for i in range(len(desired_values)):\n",
        "        activated_circle = circles[i].copy()\n",
        "        activated_circle.set_fill(color = WHITE, opacity = desired_values[i])\n",
        "\n",
        "        animations.append(Transform(circles[i], activated_circle, run_time = run_time))\n",
        "\n",
        "    return animations\n",
        "\n"
      ],
      "metadata": {
        "id": "mj3JFwu5MTQ2"
      },
      "execution_count": null,
      "outputs": []
    },
    {
      "cell_type": "code",
      "source": [
        "# Global variables to control the view\n",
        "FONT_SIZE_TITLE = 46\n",
        "FONT_TYPE = \"Go\" # Century\n",
        "NUM_ROWS_MNIST = 28 # 28\n",
        "NUM_COLUMNS_MNIST = 28 # 28\n",
        "\n",
        "\n",
        "# Variables to control the logic\n",
        "csv_file = read_csv(\"sample_data/mnist_test.csv\", header = None)\n",
        "labels = csv_file.iloc[:10, 0].values.tolist()\n",
        "images = csv_file.iloc[:10, 1:].values.tolist()\n",
        "\n",
        "pixels_normalized = [normalize_values(i) for i in images]\n",
        "format_pixels_values = [format_values(i) for i in pixels_normalized]"
      ],
      "metadata": {
        "id": "9haaOBvuMeNp"
      },
      "execution_count": null,
      "outputs": []
    },
    {
      "cell_type": "code",
      "source": [
        "%%manim -pql  NeuralNetwork\n",
        "\n",
        "# Layers Constants\n",
        "NUM_INPUTS_REPRESENTATIVE = 14\n",
        "PERCEPTRONS_HIDDEN_LAYER1 = 8\n",
        "PERCEPTRONS_HIDDEN_LAYER2 = 8\n",
        "NUM_OUTPUTS = 10\n",
        "INPUT_SIDE_SIZE = 0.3\n",
        "INPUT_FONT_SIZE = 18\n",
        "RADIUS_NEURONS = 0.25\n",
        "STROKE_WEIGHT = 1\n",
        "PADDING_SURROUNDING_BOXES = 0.2\n",
        "LABELS_FONT_LAYERS = 20\n",
        "COLOR_NEURONS = BLUE\n",
        "COLOR_WEIGHT = WHITE\n",
        "MARGIN_LEFT = 2\n",
        "MARGIN_BETWEEN_LAYERS = 1.2\n",
        "MARGIN_EXAMPLE_INPUT = 0.2\n",
        "DISTANCE_BETWEEN_NEURONS = 0.15\n",
        "\n",
        "SIZE_MNIST_EXAMPLE_SIDE = 0.05\n",
        "\n",
        "csv_parcial_data = read_csv(\"sample_data/digits.csv\", header = None)\n",
        "parcial_data_pixels = csv_parcial_data.iloc[:10, :].values.tolist()\n",
        "\n",
        "class NeuralNetwork(Scene):\n",
        "    def construct(self):\n",
        "        CONFIG = {\n",
        "          \"cell_side\" : 0.05,\n",
        "        }\n",
        "        # Layers Variables\n",
        "        input_layer = VGroup()\n",
        "        weights_hidden1= VGroup()\n",
        "        hidden_layer1 = VGroup(create_colored_neuron(radius_lenght = RADIUS_NEURONS, color = COLOR_NEURONS) for i in range(PERCEPTRONS_HIDDEN_LAYER1)).arrange(DOWN, buff = DISTANCE_BETWEEN_NEURONS)\n",
        "        weights_hidden2 = VGroup()\n",
        "        hidden_layer2 = VGroup(create_colored_neuron(radius_lenght = RADIUS_NEURONS, color = COLOR_NEURONS) for i in range(PERCEPTRONS_HIDDEN_LAYER2)).arrange(DOWN, buff = DISTANCE_BETWEEN_NEURONS)\n",
        "        weights_output = VGroup()\n",
        "        output_layer = VGroup(create_colored_neuron(radius_lenght = RADIUS_NEURONS, color = COLOR_NEURONS) for i in range(NUM_OUTPUTS)).arrange(DOWN, buff = DISTANCE_BETWEEN_NEURONS)\n",
        "        output_label = VGroup(MarkupText(str(i), font=FONT_TYPE, font_size = LABELS_FONT_LAYERS) for i in range(10)).arrange(DOWN, buff = DISTANCE_BETWEEN_NEURONS * 3)\n",
        "\n",
        "        for i in range(NUM_INPUTS_REPRESENTATIVE):\n",
        "            input_layer.add(create_rectangle_with_text(format_pixels_values[0][i], font_type = FONT_TYPE, font_size = INPUT_FONT_SIZE, side_length = INPUT_SIDE_SIZE))\n",
        "\n",
        "            if floor(NUM_INPUTS_REPRESENTATIVE / 2) == i:\n",
        "                input_layer[i] = MathTex(r\"\\vdots\").scale(1.2)\n",
        "\n",
        "        # Positioning layers\n",
        "        input_layer.arrange(DOWN, buff = DISTANCE_BETWEEN_NEURONS).move_to(ORIGIN).to_edge(LEFT, buff = MARGIN_LEFT)\n",
        "        hidden_layer1.next_to(input_layer,   RIGHT,  buff = MARGIN_BETWEEN_LAYERS)\n",
        "        hidden_layer2.next_to(hidden_layer1, RIGHT,  buff = MARGIN_BETWEEN_LAYERS)\n",
        "        output_layer.next_to(hidden_layer2,  RIGHT,  buff = MARGIN_BETWEEN_LAYERS)\n",
        "        output_label.move_to(ORIGIN).next_to(output_layer, direction = RIGHT)\n",
        "\n",
        "        weights_hidden1.add(Line(j.get_right(), hidden_layer1[i].get_left(), color = COLOR_WEIGHT, stroke_width = STROKE_WEIGHT) for j in input_layer for i in range(PERCEPTRONS_HIDDEN_LAYER1))\n",
        "        weights_hidden2.add(Line(j.get_right(), hidden_layer2[i].get_left(), color = COLOR_WEIGHT, stroke_width = STROKE_WEIGHT) for j in hidden_layer1 for i in range(PERCEPTRONS_HIDDEN_LAYER2))\n",
        "        weights_output.add(Line(j.get_right(), output_layer[i].get_left(), color = COLOR_WEIGHT, stroke_width = STROKE_WEIGHT) for j in hidden_layer2 for i in range(NUM_OUTPUTS))\n",
        "\n",
        "        # Samples constants\n",
        "        matrix_squares_colored = DataMatrix(data = pixels_normalized[1], num_rows = NUM_ROWS_MNIST, cell_width = SIZE_MNIST_EXAMPLE_SIDE, cell_height = SIZE_MNIST_EXAMPLE_SIDE, stroke_width = 0.5, color_mode = True).next_to(input_layer, LEFT, buff = MARGIN_EXAMPLE_INPUT)\n",
        "\n",
        "        #self.play(FadeIn(input_layer))\n",
        "        #self.play(AnimationGroup(sucession_animations(FadeIn, [hidden_layer1, hidden_layer2, output_layer], 0.2)))\n",
        "        #self.play(Create(weights_hidden1))\n",
        "        #self.play(Create(weights_hidden2))\n",
        "        #self.play(Create(weights_output ))\n",
        "        self.add(input_layer, hidden_layer1, hidden_layer2, output_layer, weights_hidden1, weights_hidden2, weights_output)\n",
        "\n",
        "        # Layers labels\n",
        "        box_input_layer = Rectangle(height = input_layer.get_top()[1] - input_layer.get_bottom()[1] + PADDING_SURROUNDING_BOXES, width = input_layer.get_right()[0] - input_layer.get_left()[0] + PADDING_SURROUNDING_BOXES).set_stroke(WHITE, width = 2).move_to(input_layer)\n",
        "        text_input_layer = MarkupText(\"Camada de Entrada\", font_size = LABELS_FONT_LAYERS, font = FONT_TYPE).next_to(box_input_layer, direction = UP, buff = 0.2)\n",
        "\n",
        "        box_hidden_layers = Rectangle(height = hidden_layer1.get_top()[1] - hidden_layer1.get_bottom()[1] + PADDING_SURROUNDING_BOXES, width = hidden_layer2.get_right()[0] - hidden_layer1.get_left()[0] + PADDING_SURROUNDING_BOXES).set_stroke(WHITE, width = 2).move_to((hidden_layer1.get_corner(UL) + hidden_layer2.get_corner(DR)) / 2)\n",
        "        text_hidden_layer = MarkupText(\"Camadas Ocultas\", font_size = LABELS_FONT_LAYERS, font = FONT_TYPE).next_to(box_hidden_layers, direction = UP, buff = 0.2)\n",
        "\n",
        "        box_output_layer = Rectangle(height = output_layer.get_top()[1] - output_layer.get_bottom()[1] + PADDING_SURROUNDING_BOXES, width = output_layer.get_right()[0] - output_layer.get_left()[0] + PADDING_SURROUNDING_BOXES).set_stroke(WHITE, width = 2).move_to(output_layer)\n",
        "        text_output_layer = MarkupText(\"Camada de Saída\", font_size = LABELS_FONT_LAYERS, font = FONT_TYPE).next_to(box_output_layer, direction = UP, buff = 0.2)\n",
        "\n",
        "        # Data Representation\n",
        "        data_layer_hidden1 = Matrix([DataMatrix(i, num_rows = NUM_ROWS_MNIST, cell_width = CONFIG[\"cell_side\"], cell_height = CONFIG[\"cell_side\"], stroke_width = 0, color_mode = True) for i in parcial_data_pixels[4:]], num_cols = 3, buff = 0.4)\n",
        "        background_rectangle = SurroundingRectangleGL(data_layer_hidden1, buff = 0.2).set_fill(BLACK, opacity = 1)\n",
        "        self.add(data_layer_hidden1, background_rectangle)\n",
        "\n",
        "        #self.play(DrawBorderThenFill(box_input_layer), FadeIn(text_input_layer))\n",
        "        #self.play(DrawBorderThenFill(box_hidden_layers), FadeIn(text_hidden_layer))\n",
        "        #self.play(DrawBorderThenFill(box_output_layer), FadeIn(text_output_layer))\n",
        "\n",
        "        #self.play(FadeOut(box_input_layer), FadeOut(text_input_layer), FadeOut(box_hidden_layers), FadeOut(text_hidden_layer), FadeOut(box_output_layer), FadeOut(text_output_layer))\n",
        "\n",
        "\n",
        "        #self.play(FadeIn(matrix_squares_colored), FadeIn(output_label))\n",
        "        #self.play(Transform(matrix_squares_colored, input_layer))\n",
        "\n",
        "        #self.play(AnimationGroup(animate_half_lines(weights_hidden1, line_width = STROKE_WEIGHT), animate_neurons(hidden_layer1)))\n",
        "        #self.play(AnimationGroup(animate_half_lines(weights_hidden2, line_width = STROKE_WEIGHT), animate_neurons(hidden_layer2)))\n",
        "        #self.play(AnimationGroup(animate_half_lines(weights_output, line_width = STROKE_WEIGHT), animate_output(output_layer, labels[1])))\n",
        "\n",
        "\n",
        "        self.interactive_embed()"
      ],
      "metadata": {
        "colab": {
          "base_uri": "https://localhost:8080/",
          "height": 492
        },
        "id": "QdHL77xDag8y",
        "outputId": "5c0c6a14-0b94-4c07-a786-b68402b795f9"
      },
      "execution_count": 21,
      "outputs": [
        {
          "output_type": "display_data",
          "data": {
            "text/plain": [
              "Manim Community \u001b[32mv0.\u001b[0m\u001b[32m19.0\u001b[0m\n",
              "\n"
            ],
            "text/html": [
              "<pre style=\"white-space:pre;overflow-x:auto;line-height:normal;font-family:Menlo,'DejaVu Sans Mono',consolas,'Courier New',monospace\">Manim Community <span style=\"color: #008000; text-decoration-color: #008000\">v0.19.0</span>\n",
              "\n",
              "</pre>\n"
            ]
          },
          "metadata": {}
        },
        {
          "output_type": "error",
          "ename": "AttributeError",
          "evalue": "VGroup object has no attribute 'size'",
          "traceback": [
            "\u001b[0;31m---------------------------------------------------------------------------\u001b[0m",
            "\u001b[0;31mAttributeError\u001b[0m                            Traceback (most recent call last)",
            "\u001b[0;32m/tmp/ipython-input-2697809150.py\u001b[0m in \u001b[0;36m<cell line: 0>\u001b[0;34m()\u001b[0m\n\u001b[0;32m----> 1\u001b[0;31m \u001b[0mget_ipython\u001b[0m\u001b[0;34m(\u001b[0m\u001b[0;34m)\u001b[0m\u001b[0;34m.\u001b[0m\u001b[0mrun_cell_magic\u001b[0m\u001b[0;34m(\u001b[0m\u001b[0;34m'manim'\u001b[0m\u001b[0;34m,\u001b[0m \u001b[0;34m'-pql  NeuralNetwork'\u001b[0m\u001b[0;34m,\u001b[0m \u001b[0;34m'\\n# Layers Constants\\nNUM_INPUTS_REPRESENTATIVE = 14\\nPERCEPTRONS_HIDDEN_LAYER1 = 8\\nPERCEPTRONS_HIDDEN_LAYER2 = 8\\nNUM_OUTPUTS = 10\\nINPUT_SIDE_SIZE = 0.3\\nINPUT_FONT_SIZE = 18\\nRADIUS_NEURONS = 0.25\\nSTROKE_WEIGHT = 1\\nPADDING_SURROUNDING_BOXES = 0.2\\nLABELS_FONT_LAYERS = 20\\nCOLOR_NEURONS = BLUE\\nCOLOR_WEIGHT = WHITE\\nMARGIN_LEFT = 2\\nMARGIN_BETWEEN_LAYERS = 1.2\\nMARGIN_EXAMPLE_INPUT = 0.2\\nDISTANCE_BETWEEN_NEURONS = 0.15\\n\\nSIZE_MNIST_EXAMPLE_SIDE = 0.05\\n\\ncsv_parcial_data = read_csv(\"sample_data/digits.csv\", header = None)\\nparcial_data_pixels = csv_parcial_data.iloc[:10, :].values.tolist()\\n\\nclass NeuralNetwork(Scene):\\n    def construct(self):\\n        CONFIG = {\\n          \"cell_side\" : 0.05,\\n        }\\n        # Layers Variables\\n        input_layer = VGroup()\\n        weights_hidden1= VGroup()\\n        hidden_layer1 = VGroup(create_colored_neuron(radius_lenght = RADIUS_NEURONS, color = COLOR_NEURONS) for i in range(PERCEPTRONS_HIDDEN_LAYER1)).arrange(DOWN, buff = DISTANCE_BETWEEN_NEURONS)\\n        weights_hidden2 = VGroup()\\n        hidden_layer2 = VGroup(create_colored_neuron(radius_lenght = RADIUS_NEURONS, color = COLOR_NEURONS) for i in range(PERCEPTRONS_HIDDEN_LAYER2)).arrange(DOWN, buff = DISTANCE_BETWEEN_NEURONS)\\n        weights_output = VGroup()\\n        output...\n\u001b[0m",
            "\u001b[0;32m/usr/local/lib/python3.12/dist-packages/google/colab/_shell.py\u001b[0m in \u001b[0;36mrun_cell_magic\u001b[0;34m(self, magic_name, line, cell)\u001b[0m\n\u001b[1;32m    274\u001b[0m     \u001b[0;32mif\u001b[0m \u001b[0mline\u001b[0m \u001b[0;32mand\u001b[0m \u001b[0;32mnot\u001b[0m \u001b[0mcell\u001b[0m\u001b[0;34m:\u001b[0m\u001b[0;34m\u001b[0m\u001b[0;34m\u001b[0m\u001b[0m\n\u001b[1;32m    275\u001b[0m       \u001b[0mcell\u001b[0m \u001b[0;34m=\u001b[0m \u001b[0;34m' '\u001b[0m\u001b[0;34m\u001b[0m\u001b[0;34m\u001b[0m\u001b[0m\n\u001b[0;32m--> 276\u001b[0;31m     \u001b[0;32mreturn\u001b[0m \u001b[0msuper\u001b[0m\u001b[0;34m(\u001b[0m\u001b[0;34m)\u001b[0m\u001b[0;34m.\u001b[0m\u001b[0mrun_cell_magic\u001b[0m\u001b[0;34m(\u001b[0m\u001b[0mmagic_name\u001b[0m\u001b[0;34m,\u001b[0m \u001b[0mline\u001b[0m\u001b[0;34m,\u001b[0m \u001b[0mcell\u001b[0m\u001b[0;34m)\u001b[0m\u001b[0;34m\u001b[0m\u001b[0;34m\u001b[0m\u001b[0m\n\u001b[0m\u001b[1;32m    277\u001b[0m \u001b[0;34m\u001b[0m\u001b[0m\n\u001b[1;32m    278\u001b[0m \u001b[0;34m\u001b[0m\u001b[0m\n",
            "\u001b[0;32m/usr/local/lib/python3.12/dist-packages/IPython/core/interactiveshell.py\u001b[0m in \u001b[0;36mrun_cell_magic\u001b[0;34m(self, magic_name, line, cell)\u001b[0m\n\u001b[1;32m   2471\u001b[0m             \u001b[0;32mwith\u001b[0m \u001b[0mself\u001b[0m\u001b[0;34m.\u001b[0m\u001b[0mbuiltin_trap\u001b[0m\u001b[0;34m:\u001b[0m\u001b[0;34m\u001b[0m\u001b[0;34m\u001b[0m\u001b[0m\n\u001b[1;32m   2472\u001b[0m                 \u001b[0margs\u001b[0m \u001b[0;34m=\u001b[0m \u001b[0;34m(\u001b[0m\u001b[0mmagic_arg_s\u001b[0m\u001b[0;34m,\u001b[0m \u001b[0mcell\u001b[0m\u001b[0;34m)\u001b[0m\u001b[0;34m\u001b[0m\u001b[0;34m\u001b[0m\u001b[0m\n\u001b[0;32m-> 2473\u001b[0;31m                 \u001b[0mresult\u001b[0m \u001b[0;34m=\u001b[0m \u001b[0mfn\u001b[0m\u001b[0;34m(\u001b[0m\u001b[0;34m*\u001b[0m\u001b[0margs\u001b[0m\u001b[0;34m,\u001b[0m \u001b[0;34m**\u001b[0m\u001b[0mkwargs\u001b[0m\u001b[0;34m)\u001b[0m\u001b[0;34m\u001b[0m\u001b[0;34m\u001b[0m\u001b[0m\n\u001b[0m\u001b[1;32m   2474\u001b[0m             \u001b[0;32mreturn\u001b[0m \u001b[0mresult\u001b[0m\u001b[0;34m\u001b[0m\u001b[0;34m\u001b[0m\u001b[0m\n\u001b[1;32m   2475\u001b[0m \u001b[0;34m\u001b[0m\u001b[0m\n",
            "\u001b[0;32m<decorator-gen-122>\u001b[0m in \u001b[0;36mmanim\u001b[0;34m(self, line, cell, local_ns)\u001b[0m\n",
            "\u001b[0;32m/usr/local/lib/python3.12/dist-packages/IPython/core/magic.py\u001b[0m in \u001b[0;36m<lambda>\u001b[0;34m(f, *a, **k)\u001b[0m\n\u001b[1;32m    185\u001b[0m     \u001b[0;31m# but it's overkill for just that one bit of state.\u001b[0m\u001b[0;34m\u001b[0m\u001b[0;34m\u001b[0m\u001b[0m\n\u001b[1;32m    186\u001b[0m     \u001b[0;32mdef\u001b[0m \u001b[0mmagic_deco\u001b[0m\u001b[0;34m(\u001b[0m\u001b[0marg\u001b[0m\u001b[0;34m)\u001b[0m\u001b[0;34m:\u001b[0m\u001b[0;34m\u001b[0m\u001b[0;34m\u001b[0m\u001b[0m\n\u001b[0;32m--> 187\u001b[0;31m         \u001b[0mcall\u001b[0m \u001b[0;34m=\u001b[0m \u001b[0;32mlambda\u001b[0m \u001b[0mf\u001b[0m\u001b[0;34m,\u001b[0m \u001b[0;34m*\u001b[0m\u001b[0ma\u001b[0m\u001b[0;34m,\u001b[0m \u001b[0;34m**\u001b[0m\u001b[0mk\u001b[0m\u001b[0;34m:\u001b[0m \u001b[0mf\u001b[0m\u001b[0;34m(\u001b[0m\u001b[0;34m*\u001b[0m\u001b[0ma\u001b[0m\u001b[0;34m,\u001b[0m \u001b[0;34m**\u001b[0m\u001b[0mk\u001b[0m\u001b[0;34m)\u001b[0m\u001b[0;34m\u001b[0m\u001b[0;34m\u001b[0m\u001b[0m\n\u001b[0m\u001b[1;32m    188\u001b[0m \u001b[0;34m\u001b[0m\u001b[0m\n\u001b[1;32m    189\u001b[0m         \u001b[0;32mif\u001b[0m \u001b[0mcallable\u001b[0m\u001b[0;34m(\u001b[0m\u001b[0marg\u001b[0m\u001b[0;34m)\u001b[0m\u001b[0;34m:\u001b[0m\u001b[0;34m\u001b[0m\u001b[0;34m\u001b[0m\u001b[0m\n",
            "\u001b[0;32m/usr/local/lib/python3.12/dist-packages/manim/utils/ipython_magic.py\u001b[0m in \u001b[0;36mmanim\u001b[0;34m(self, line, cell, local_ns)\u001b[0m\n\u001b[1;32m    141\u001b[0m                     \u001b[0mSceneClass\u001b[0m \u001b[0;34m=\u001b[0m \u001b[0mlocal_ns\u001b[0m\u001b[0;34m[\u001b[0m\u001b[0mconfig\u001b[0m\u001b[0;34m[\u001b[0m\u001b[0;34m\"scene_names\"\u001b[0m\u001b[0;34m]\u001b[0m\u001b[0;34m[\u001b[0m\u001b[0;36m0\u001b[0m\u001b[0;34m]\u001b[0m\u001b[0;34m]\u001b[0m\u001b[0;34m\u001b[0m\u001b[0;34m\u001b[0m\u001b[0m\n\u001b[1;32m    142\u001b[0m                     \u001b[0mscene\u001b[0m \u001b[0;34m=\u001b[0m \u001b[0mSceneClass\u001b[0m\u001b[0;34m(\u001b[0m\u001b[0mrenderer\u001b[0m\u001b[0;34m=\u001b[0m\u001b[0mrenderer\u001b[0m\u001b[0;34m)\u001b[0m\u001b[0;34m\u001b[0m\u001b[0;34m\u001b[0m\u001b[0m\n\u001b[0;32m--> 143\u001b[0;31m                     \u001b[0mscene\u001b[0m\u001b[0;34m.\u001b[0m\u001b[0mrender\u001b[0m\u001b[0;34m(\u001b[0m\u001b[0;34m)\u001b[0m\u001b[0;34m\u001b[0m\u001b[0;34m\u001b[0m\u001b[0m\n\u001b[0m\u001b[1;32m    144\u001b[0m                 \u001b[0;32mfinally\u001b[0m\u001b[0;34m:\u001b[0m\u001b[0;34m\u001b[0m\u001b[0;34m\u001b[0m\u001b[0m\n\u001b[1;32m    145\u001b[0m                     \u001b[0;31m# Shader cache becomes invalid as the context is destroyed\u001b[0m\u001b[0;34m\u001b[0m\u001b[0;34m\u001b[0m\u001b[0m\n",
            "\u001b[0;32m/usr/local/lib/python3.12/dist-packages/manim/scene/scene.py\u001b[0m in \u001b[0;36mrender\u001b[0;34m(self, preview)\u001b[0m\n\u001b[1;32m    235\u001b[0m         \u001b[0mself\u001b[0m\u001b[0;34m.\u001b[0m\u001b[0msetup\u001b[0m\u001b[0;34m(\u001b[0m\u001b[0;34m)\u001b[0m\u001b[0;34m\u001b[0m\u001b[0;34m\u001b[0m\u001b[0m\n\u001b[1;32m    236\u001b[0m         \u001b[0;32mtry\u001b[0m\u001b[0;34m:\u001b[0m\u001b[0;34m\u001b[0m\u001b[0;34m\u001b[0m\u001b[0m\n\u001b[0;32m--> 237\u001b[0;31m             \u001b[0mself\u001b[0m\u001b[0;34m.\u001b[0m\u001b[0mconstruct\u001b[0m\u001b[0;34m(\u001b[0m\u001b[0;34m)\u001b[0m\u001b[0;34m\u001b[0m\u001b[0;34m\u001b[0m\u001b[0m\n\u001b[0m\u001b[1;32m    238\u001b[0m         \u001b[0;32mexcept\u001b[0m \u001b[0mEndSceneEarlyException\u001b[0m\u001b[0;34m:\u001b[0m\u001b[0;34m\u001b[0m\u001b[0;34m\u001b[0m\u001b[0m\n\u001b[1;32m    239\u001b[0m             \u001b[0;32mpass\u001b[0m\u001b[0;34m\u001b[0m\u001b[0;34m\u001b[0m\u001b[0m\n",
            "\u001b[0;32m<string>\u001b[0m in \u001b[0;36mconstruct\u001b[0;34m(self)\u001b[0m\n",
            "\u001b[0;32m/tmp/ipython-input-3777173858.py\u001b[0m in \u001b[0;36m__init__\u001b[0;34m(self, mobjects, num_cols, buff, **kwargs)\u001b[0m\n\u001b[1;32m     82\u001b[0m \u001b[0;34m\u001b[0m\u001b[0m\n\u001b[1;32m     83\u001b[0m         \u001b[0mrow_mobjects\u001b[0m \u001b[0;34m=\u001b[0m \u001b[0;34m[\u001b[0m\u001b[0;34m]\u001b[0m\u001b[0;34m\u001b[0m\u001b[0;34m\u001b[0m\u001b[0m\n\u001b[0;32m---> 84\u001b[0;31m         \u001b[0msize\u001b[0m \u001b[0;34m=\u001b[0m \u001b[0mmobjects\u001b[0m\u001b[0;34m.\u001b[0m\u001b[0msize\u001b[0m\u001b[0;34m(\u001b[0m\u001b[0;34m)\u001b[0m\u001b[0;34m\u001b[0m\u001b[0;34m\u001b[0m\u001b[0m\n\u001b[0m\u001b[1;32m     85\u001b[0m         \u001b[0mindex\u001b[0m \u001b[0;34m=\u001b[0m \u001b[0;36m0\u001b[0m\u001b[0;34m\u001b[0m\u001b[0;34m\u001b[0m\u001b[0m\n\u001b[1;32m     86\u001b[0m         \u001b[0;32mwhile\u001b[0m \u001b[0mindex\u001b[0m \u001b[0;34m<\u001b[0m \u001b[0msize\u001b[0m\u001b[0;34m:\u001b[0m\u001b[0;34m\u001b[0m\u001b[0;34m\u001b[0m\u001b[0m\n",
            "\u001b[0;32m/usr/local/lib/python3.12/dist-packages/manim/mobject/mobject.py\u001b[0m in \u001b[0;36m__getattr__\u001b[0;34m(self, attr)\u001b[0m\n\u001b[1;32m    721\u001b[0m \u001b[0;34m\u001b[0m\u001b[0m\n\u001b[1;32m    722\u001b[0m         \u001b[0;31m# Unhandled attribute, therefore error\u001b[0m\u001b[0;34m\u001b[0m\u001b[0;34m\u001b[0m\u001b[0m\n\u001b[0;32m--> 723\u001b[0;31m         \u001b[0;32mraise\u001b[0m \u001b[0mAttributeError\u001b[0m\u001b[0;34m(\u001b[0m\u001b[0;34mf\"{type(self).__name__} object has no attribute '{attr}'\"\u001b[0m\u001b[0;34m)\u001b[0m\u001b[0;34m\u001b[0m\u001b[0;34m\u001b[0m\u001b[0m\n\u001b[0m\u001b[1;32m    724\u001b[0m \u001b[0;34m\u001b[0m\u001b[0m\n\u001b[1;32m    725\u001b[0m     \u001b[0;34m@\u001b[0m\u001b[0mproperty\u001b[0m\u001b[0;34m\u001b[0m\u001b[0;34m\u001b[0m\u001b[0m\n",
            "\u001b[0;31mAttributeError\u001b[0m: VGroup object has no attribute 'size'"
          ]
        }
      ]
    },
    {
      "cell_type": "code",
      "source": [
        "%%manim -pql  DataRepresentation\n",
        "\n",
        "def list_to_matrix(data, num_rows = 28, num_cols = 28):\n",
        "  out = []\n",
        "  for i in range(int(len(data)/num_rows)):\n",
        "    out.append(data[i*num_cols:(i+1)*num_cols])\n",
        "\n",
        "  return out\n",
        "\n",
        "def matrix_to_list(data):\n",
        "  out = []\n",
        "  for row in data:\n",
        "    for column in row:\n",
        "      out.append(column)\n",
        "\n",
        "  return out\n",
        "\n",
        "\n",
        "\n",
        "class DataRepresentation(Scene):\n",
        "  def construct(self):\n",
        "      title_text = MarkupText(\"Primeira Camada Oculta\", font = FONT_TYPE, font_size = FONT_SIZE_TITLE)\n",
        "      data_layer_hidden1 = VGroup(*[DataMatrix(i, num_rows = NUM_ROWS_MNIST, cell_width = CONFIG[\"cell_side\"], cell_height = CONFIG[\"cell_side\"], stroke_width = 0, color_mode = True) for i in parcial_data_pixels[4:]])\n",
        "      data_layer_hidden2 = VGroup()\n",
        "\n",
        "      for i in range(0, len(data_layer_hidden1.submobjects), 2):\n",
        "        data_layer_hidden2.add(data_layer_hidden1[i].copy() + data_layer_hidden1[i + 1].copy())\n",
        "\n",
        "\n",
        "      data_output = data_layer_hidden2.copy()\n",
        "      data_layer_hidden2.move_to(ORIGIN).arrange(DOWN)\n",
        "      data_layer_hidden1.arrange(DOWN).next_to(data_layer_hidden2, direction = LEFT, buff = 1.0)\n",
        "      data_output.next_to(data_layer_hidden2, direction = RIGHT)\n",
        "      surrounding_boxes1 = [SurroundingRectangleGL(elem) for elem in data_layer_hidden1]\n",
        "      surrounding_boxes2 = [SurroundingRectangleGL(elem) for elem in data_layer_hidden2]\n",
        "\n",
        "      self.add(data_layer_hidden1, *surrounding_boxes2, *surrounding_boxes1)\n",
        "\n",
        "      self.play(TransformFromCopy(data_layer_hidden1, data_layer_hidden2))\n",
        "      self.play(TransformFromCopy(data_layer_hidden2, data_output))\n"
      ],
      "metadata": {
        "colab": {
          "base_uri": "https://localhost:8080/",
          "height": 949
        },
        "id": "hFXBU1dfoq1X",
        "outputId": "576c206c-e124-4b48-b8d4-8381e8f07759"
      },
      "execution_count": null,
      "outputs": [
        {
          "output_type": "display_data",
          "data": {
            "text/plain": [
              "Manim Community \u001b[32mv0.\u001b[0m\u001b[32m19.0\u001b[0m\n",
              "\n"
            ],
            "text/html": [
              "<pre style=\"white-space:pre;overflow-x:auto;line-height:normal;font-family:Menlo,'DejaVu Sans Mono',consolas,'Courier New',monospace\">Manim Community <span style=\"color: #008000; text-decoration-color: #008000\">v0.19.0</span>\n",
              "\n",
              "</pre>\n"
            ]
          },
          "metadata": {}
        },
        {
          "output_type": "display_data",
          "data": {
            "text/plain": [
              "\u001b[2;36m[08/20/25 21:10:29]\u001b[0m\u001b[2;36m \u001b[0m\u001b[31mWARNING \u001b[0m It looks like the \u001b[1;33mscene\u001b[0m contains a lot of sub-mobjects. Caching is      \u001b]8;id=165740;file:///usr/local/lib/python3.12/dist-packages/manim/utils/hashing.py\u001b\\\u001b[2mhashing.py\u001b[0m\u001b]8;;\u001b\\\u001b[2m:\u001b[0m\u001b]8;id=555335;file:///usr/local/lib/python3.12/dist-packages/manim/utils/hashing.py#160\u001b\\\u001b[2m160\u001b[0m\u001b]8;;\u001b\\\n",
              "\u001b[2;36m                    \u001b[0m         sometimes not suited to handle such large \u001b[1;33mscene\u001b[0ms, you might consider    \u001b[2m              \u001b[0m\n",
              "\u001b[2;36m                    \u001b[0m         disabling caching with --disable_caching to potentially speed up the    \u001b[2m              \u001b[0m\n",
              "\u001b[2;36m                    \u001b[0m         rendering process.                                                      \u001b[2m              \u001b[0m\n"
            ],
            "text/html": [
              "<pre style=\"white-space:pre;overflow-x:auto;line-height:normal;font-family:Menlo,'DejaVu Sans Mono',consolas,'Courier New',monospace\"><span style=\"color: #7fbfbf; text-decoration-color: #7fbfbf\">[08/20/25 21:10:29] </span><span style=\"color: #800000; text-decoration-color: #800000\">WARNING </span> It looks like the <span style=\"color: #808000; text-decoration-color: #808000; font-weight: bold\">scene</span> contains a lot of sub-mobjects. Caching is      <a href=\"file:///usr/local/lib/python3.12/dist-packages/manim/utils/hashing.py\" target=\"_blank\"><span style=\"color: #7f7f7f; text-decoration-color: #7f7f7f\">hashing.py</span></a><span style=\"color: #7f7f7f; text-decoration-color: #7f7f7f\">:</span><a href=\"file:///usr/local/lib/python3.12/dist-packages/manim/utils/hashing.py#160\" target=\"_blank\"><span style=\"color: #7f7f7f; text-decoration-color: #7f7f7f\">160</span></a>\n",
              "<span style=\"color: #7fbfbf; text-decoration-color: #7fbfbf\">                    </span>         sometimes not suited to handle such large <span style=\"color: #808000; text-decoration-color: #808000; font-weight: bold\">scene</span>s, you might consider    <span style=\"color: #7f7f7f; text-decoration-color: #7f7f7f\">              </span>\n",
              "<span style=\"color: #7fbfbf; text-decoration-color: #7fbfbf\">                    </span>         disabling caching with --disable_caching to potentially speed up the    <span style=\"color: #7f7f7f; text-decoration-color: #7f7f7f\">              </span>\n",
              "<span style=\"color: #7fbfbf; text-decoration-color: #7fbfbf\">                    </span>         rendering process.                                                      <span style=\"color: #7f7f7f; text-decoration-color: #7f7f7f\">              </span>\n",
              "</pre>\n"
            ]
          },
          "metadata": {}
        },
        {
          "output_type": "display_data",
          "data": {
            "text/plain": [
              "\u001b[2;36m                   \u001b[0m\u001b[2;36m \u001b[0m\u001b[31mWARNING \u001b[0m You can disable this warning by setting disable_caching_warning to \u001b[3;92mTrue\u001b[0m \u001b]8;id=596669;file:///usr/local/lib/python3.12/dist-packages/manim/utils/hashing.py\u001b\\\u001b[2mhashing.py\u001b[0m\u001b]8;;\u001b\\\u001b[2m:\u001b[0m\u001b]8;id=176191;file:///usr/local/lib/python3.12/dist-packages/manim/utils/hashing.py#166\u001b\\\u001b[2m166\u001b[0m\u001b]8;;\u001b\\\n",
              "\u001b[2;36m                    \u001b[0m         in your config file.                                                    \u001b[2m              \u001b[0m\n"
            ],
            "text/html": [
              "<pre style=\"white-space:pre;overflow-x:auto;line-height:normal;font-family:Menlo,'DejaVu Sans Mono',consolas,'Courier New',monospace\"><span style=\"color: #7fbfbf; text-decoration-color: #7fbfbf\">                    </span><span style=\"color: #800000; text-decoration-color: #800000\">WARNING </span> You can disable this warning by setting disable_caching_warning to <span style=\"color: #00ff00; text-decoration-color: #00ff00; font-style: italic\">True</span> <a href=\"file:///usr/local/lib/python3.12/dist-packages/manim/utils/hashing.py\" target=\"_blank\"><span style=\"color: #7f7f7f; text-decoration-color: #7f7f7f\">hashing.py</span></a><span style=\"color: #7f7f7f; text-decoration-color: #7f7f7f\">:</span><a href=\"file:///usr/local/lib/python3.12/dist-packages/manim/utils/hashing.py#166\" target=\"_blank\"><span style=\"color: #7f7f7f; text-decoration-color: #7f7f7f\">166</span></a>\n",
              "<span style=\"color: #7fbfbf; text-decoration-color: #7fbfbf\">                    </span>         in your config file.                                                    <span style=\"color: #7f7f7f; text-decoration-color: #7f7f7f\">              </span>\n",
              "</pre>\n"
            ]
          },
          "metadata": {}
        },
        {
          "output_type": "display_data",
          "data": {
            "text/plain": [
              "\u001b[2;36m[08/20/25 21:10:30]\u001b[0m\u001b[2;36m \u001b[0m\u001b[32mINFO    \u001b[0m Animation \u001b[32m0\u001b[0m : Using cached data \u001b[1m(\u001b[0mhash :                           \u001b]8;id=303120;file:///usr/local/lib/python3.12/dist-packages/manim/renderer/cairo_renderer.py\u001b\\\u001b[2mcairo_renderer.py\u001b[0m\u001b]8;;\u001b\\\u001b[2m:\u001b[0m\u001b]8;id=446378;file:///usr/local/lib/python3.12/dist-packages/manim/renderer/cairo_renderer.py#89\u001b\\\u001b[2m89\u001b[0m\u001b]8;;\u001b\\\n",
              "\u001b[2;36m                    \u001b[0m         1185818338_3997769807_3052316954\u001b[1m)\u001b[0m                                 \u001b[2m                    \u001b[0m\n"
            ],
            "text/html": [
              "<pre style=\"white-space:pre;overflow-x:auto;line-height:normal;font-family:Menlo,'DejaVu Sans Mono',consolas,'Courier New',monospace\"><span style=\"color: #7fbfbf; text-decoration-color: #7fbfbf\">[08/20/25 21:10:30] </span><span style=\"color: #008000; text-decoration-color: #008000\">INFO    </span> Animation <span style=\"color: #008000; text-decoration-color: #008000\">0</span> : Using cached data <span style=\"font-weight: bold\">(</span>hash :                           <a href=\"file:///usr/local/lib/python3.12/dist-packages/manim/renderer/cairo_renderer.py\" target=\"_blank\"><span style=\"color: #7f7f7f; text-decoration-color: #7f7f7f\">cairo_renderer.py</span></a><span style=\"color: #7f7f7f; text-decoration-color: #7f7f7f\">:</span><a href=\"file:///usr/local/lib/python3.12/dist-packages/manim/renderer/cairo_renderer.py#89\" target=\"_blank\"><span style=\"color: #7f7f7f; text-decoration-color: #7f7f7f\">89</span></a>\n",
              "<span style=\"color: #7fbfbf; text-decoration-color: #7fbfbf\">                    </span>         1185818338_3997769807_3052316954<span style=\"font-weight: bold\">)</span>                                 <span style=\"color: #7f7f7f; text-decoration-color: #7f7f7f\">                    </span>\n",
              "</pre>\n"
            ]
          },
          "metadata": {}
        },
        {
          "output_type": "stream",
          "name": "stderr",
          "text": []
        },
        {
          "output_type": "display_data",
          "data": {
            "text/plain": [
              "\u001b[2;36m[08/20/25 21:10:51]\u001b[0m\u001b[2;36m \u001b[0m\u001b[31mWARNING \u001b[0m It looks like the \u001b[1;33mscene\u001b[0m contains a lot of sub-mobjects. Caching is      \u001b]8;id=899927;file:///usr/local/lib/python3.12/dist-packages/manim/utils/hashing.py\u001b\\\u001b[2mhashing.py\u001b[0m\u001b]8;;\u001b\\\u001b[2m:\u001b[0m\u001b]8;id=502702;file:///usr/local/lib/python3.12/dist-packages/manim/utils/hashing.py#160\u001b\\\u001b[2m160\u001b[0m\u001b]8;;\u001b\\\n",
              "\u001b[2;36m                    \u001b[0m         sometimes not suited to handle such large \u001b[1;33mscene\u001b[0ms, you might consider    \u001b[2m              \u001b[0m\n",
              "\u001b[2;36m                    \u001b[0m         disabling caching with --disable_caching to potentially speed up the    \u001b[2m              \u001b[0m\n",
              "\u001b[2;36m                    \u001b[0m         rendering process.                                                      \u001b[2m              \u001b[0m\n"
            ],
            "text/html": [
              "<pre style=\"white-space:pre;overflow-x:auto;line-height:normal;font-family:Menlo,'DejaVu Sans Mono',consolas,'Courier New',monospace\"><span style=\"color: #7fbfbf; text-decoration-color: #7fbfbf\">[08/20/25 21:10:51] </span><span style=\"color: #800000; text-decoration-color: #800000\">WARNING </span> It looks like the <span style=\"color: #808000; text-decoration-color: #808000; font-weight: bold\">scene</span> contains a lot of sub-mobjects. Caching is      <a href=\"file:///usr/local/lib/python3.12/dist-packages/manim/utils/hashing.py\" target=\"_blank\"><span style=\"color: #7f7f7f; text-decoration-color: #7f7f7f\">hashing.py</span></a><span style=\"color: #7f7f7f; text-decoration-color: #7f7f7f\">:</span><a href=\"file:///usr/local/lib/python3.12/dist-packages/manim/utils/hashing.py#160\" target=\"_blank\"><span style=\"color: #7f7f7f; text-decoration-color: #7f7f7f\">160</span></a>\n",
              "<span style=\"color: #7fbfbf; text-decoration-color: #7fbfbf\">                    </span>         sometimes not suited to handle such large <span style=\"color: #808000; text-decoration-color: #808000; font-weight: bold\">scene</span>s, you might consider    <span style=\"color: #7f7f7f; text-decoration-color: #7f7f7f\">              </span>\n",
              "<span style=\"color: #7fbfbf; text-decoration-color: #7fbfbf\">                    </span>         disabling caching with --disable_caching to potentially speed up the    <span style=\"color: #7f7f7f; text-decoration-color: #7f7f7f\">              </span>\n",
              "<span style=\"color: #7fbfbf; text-decoration-color: #7fbfbf\">                    </span>         rendering process.                                                      <span style=\"color: #7f7f7f; text-decoration-color: #7f7f7f\">              </span>\n",
              "</pre>\n"
            ]
          },
          "metadata": {}
        },
        {
          "output_type": "display_data",
          "data": {
            "text/plain": [
              "\u001b[2;36m                   \u001b[0m\u001b[2;36m \u001b[0m\u001b[31mWARNING \u001b[0m You can disable this warning by setting disable_caching_warning to \u001b[3;92mTrue\u001b[0m \u001b]8;id=965401;file:///usr/local/lib/python3.12/dist-packages/manim/utils/hashing.py\u001b\\\u001b[2mhashing.py\u001b[0m\u001b]8;;\u001b\\\u001b[2m:\u001b[0m\u001b]8;id=792441;file:///usr/local/lib/python3.12/dist-packages/manim/utils/hashing.py#166\u001b\\\u001b[2m166\u001b[0m\u001b]8;;\u001b\\\n",
              "\u001b[2;36m                    \u001b[0m         in your config file.                                                    \u001b[2m              \u001b[0m\n"
            ],
            "text/html": [
              "<pre style=\"white-space:pre;overflow-x:auto;line-height:normal;font-family:Menlo,'DejaVu Sans Mono',consolas,'Courier New',monospace\"><span style=\"color: #7fbfbf; text-decoration-color: #7fbfbf\">                    </span><span style=\"color: #800000; text-decoration-color: #800000\">WARNING </span> You can disable this warning by setting disable_caching_warning to <span style=\"color: #00ff00; text-decoration-color: #00ff00; font-style: italic\">True</span> <a href=\"file:///usr/local/lib/python3.12/dist-packages/manim/utils/hashing.py\" target=\"_blank\"><span style=\"color: #7f7f7f; text-decoration-color: #7f7f7f\">hashing.py</span></a><span style=\"color: #7f7f7f; text-decoration-color: #7f7f7f\">:</span><a href=\"file:///usr/local/lib/python3.12/dist-packages/manim/utils/hashing.py#166\" target=\"_blank\"><span style=\"color: #7f7f7f; text-decoration-color: #7f7f7f\">166</span></a>\n",
              "<span style=\"color: #7fbfbf; text-decoration-color: #7fbfbf\">                    </span>         in your config file.                                                    <span style=\"color: #7f7f7f; text-decoration-color: #7f7f7f\">              </span>\n",
              "</pre>\n"
            ]
          },
          "metadata": {}
        },
        {
          "output_type": "stream",
          "name": "stderr",
          "text": []
        },
        {
          "output_type": "display_data",
          "data": {
            "text/plain": [
              "\u001b[2;36m[08/20/25 21:11:33]\u001b[0m\u001b[2;36m \u001b[0m\u001b[32mINFO    \u001b[0m Animation \u001b[32m1\u001b[0m : Partial movie file written in                   \u001b]8;id=144482;file:///usr/local/lib/python3.12/dist-packages/manim/scene/scene_file_writer.py\u001b\\\u001b[2mscene_file_writer.py\u001b[0m\u001b]8;;\u001b\\\u001b[2m:\u001b[0m\u001b]8;id=878525;file:///usr/local/lib/python3.12/dist-packages/manim/scene/scene_file_writer.py#588\u001b\\\u001b[2m588\u001b[0m\u001b]8;;\u001b\\\n",
              "\u001b[2;36m                    \u001b[0m         \u001b[32m'/content/media/videos/content/480p15/partial_movie_files/Dat\u001b[0m \u001b[2m                        \u001b[0m\n",
              "\u001b[2;36m                    \u001b[0m         \u001b[32maRepresentation/624642324_2754760897_3793164999.mp4'\u001b[0m          \u001b[2m                        \u001b[0m\n"
            ],
            "text/html": [
              "<pre style=\"white-space:pre;overflow-x:auto;line-height:normal;font-family:Menlo,'DejaVu Sans Mono',consolas,'Courier New',monospace\"><span style=\"color: #7fbfbf; text-decoration-color: #7fbfbf\">[08/20/25 21:11:33] </span><span style=\"color: #008000; text-decoration-color: #008000\">INFO    </span> Animation <span style=\"color: #008000; text-decoration-color: #008000\">1</span> : Partial movie file written in                   <a href=\"file:///usr/local/lib/python3.12/dist-packages/manim/scene/scene_file_writer.py\" target=\"_blank\"><span style=\"color: #7f7f7f; text-decoration-color: #7f7f7f\">scene_file_writer.py</span></a><span style=\"color: #7f7f7f; text-decoration-color: #7f7f7f\">:</span><a href=\"file:///usr/local/lib/python3.12/dist-packages/manim/scene/scene_file_writer.py#588\" target=\"_blank\"><span style=\"color: #7f7f7f; text-decoration-color: #7f7f7f\">588</span></a>\n",
              "<span style=\"color: #7fbfbf; text-decoration-color: #7fbfbf\">                    </span>         <span style=\"color: #008000; text-decoration-color: #008000\">'/content/media/videos/content/480p15/partial_movie_files/Dat</span> <span style=\"color: #7f7f7f; text-decoration-color: #7f7f7f\">                        </span>\n",
              "<span style=\"color: #7fbfbf; text-decoration-color: #7fbfbf\">                    </span>         <span style=\"color: #008000; text-decoration-color: #008000\">aRepresentation/624642324_2754760897_3793164999.mp4'</span>          <span style=\"color: #7f7f7f; text-decoration-color: #7f7f7f\">                        </span>\n",
              "</pre>\n"
            ]
          },
          "metadata": {}
        },
        {
          "output_type": "display_data",
          "data": {
            "text/plain": [
              "\u001b[2;36m                   \u001b[0m\u001b[2;36m \u001b[0m\u001b[32mINFO    \u001b[0m Combining to Movie file.                                      \u001b]8;id=385003;file:///usr/local/lib/python3.12/dist-packages/manim/scene/scene_file_writer.py\u001b\\\u001b[2mscene_file_writer.py\u001b[0m\u001b]8;;\u001b\\\u001b[2m:\u001b[0m\u001b]8;id=224661;file:///usr/local/lib/python3.12/dist-packages/manim/scene/scene_file_writer.py#739\u001b\\\u001b[2m739\u001b[0m\u001b]8;;\u001b\\\n"
            ],
            "text/html": [
              "<pre style=\"white-space:pre;overflow-x:auto;line-height:normal;font-family:Menlo,'DejaVu Sans Mono',consolas,'Courier New',monospace\"><span style=\"color: #7fbfbf; text-decoration-color: #7fbfbf\">                    </span><span style=\"color: #008000; text-decoration-color: #008000\">INFO    </span> Combining to Movie file.                                      <a href=\"file:///usr/local/lib/python3.12/dist-packages/manim/scene/scene_file_writer.py\" target=\"_blank\"><span style=\"color: #7f7f7f; text-decoration-color: #7f7f7f\">scene_file_writer.py</span></a><span style=\"color: #7f7f7f; text-decoration-color: #7f7f7f\">:</span><a href=\"file:///usr/local/lib/python3.12/dist-packages/manim/scene/scene_file_writer.py#739\" target=\"_blank\"><span style=\"color: #7f7f7f; text-decoration-color: #7f7f7f\">739</span></a>\n",
              "</pre>\n"
            ]
          },
          "metadata": {}
        },
        {
          "output_type": "display_data",
          "data": {
            "text/plain": [
              "\u001b[2;36m                   \u001b[0m\u001b[2;36m \u001b[0m\u001b[32mINFO    \u001b[0m                                                               \u001b]8;id=424997;file:///usr/local/lib/python3.12/dist-packages/manim/scene/scene_file_writer.py\u001b\\\u001b[2mscene_file_writer.py\u001b[0m\u001b]8;;\u001b\\\u001b[2m:\u001b[0m\u001b]8;id=246582;file:///usr/local/lib/python3.12/dist-packages/manim/scene/scene_file_writer.py#886\u001b\\\u001b[2m886\u001b[0m\u001b]8;;\u001b\\\n",
              "\u001b[2;36m                    \u001b[0m         \u001b[1;33mFile\u001b[0m ready at                                                 \u001b[2m                        \u001b[0m\n",
              "\u001b[2;36m                    \u001b[0m         \u001b[32m'/content/media/videos/content/480p15/DataRepresentation.mp4'\u001b[0m \u001b[2m                        \u001b[0m\n",
              "\u001b[2;36m                    \u001b[0m                                                                       \u001b[2m                        \u001b[0m\n"
            ],
            "text/html": [
              "<pre style=\"white-space:pre;overflow-x:auto;line-height:normal;font-family:Menlo,'DejaVu Sans Mono',consolas,'Courier New',monospace\"><span style=\"color: #7fbfbf; text-decoration-color: #7fbfbf\">                    </span><span style=\"color: #008000; text-decoration-color: #008000\">INFO    </span>                                                               <a href=\"file:///usr/local/lib/python3.12/dist-packages/manim/scene/scene_file_writer.py\" target=\"_blank\"><span style=\"color: #7f7f7f; text-decoration-color: #7f7f7f\">scene_file_writer.py</span></a><span style=\"color: #7f7f7f; text-decoration-color: #7f7f7f\">:</span><a href=\"file:///usr/local/lib/python3.12/dist-packages/manim/scene/scene_file_writer.py#886\" target=\"_blank\"><span style=\"color: #7f7f7f; text-decoration-color: #7f7f7f\">886</span></a>\n",
              "<span style=\"color: #7fbfbf; text-decoration-color: #7fbfbf\">                    </span>         <span style=\"color: #808000; text-decoration-color: #808000; font-weight: bold\">File</span> ready at                                                 <span style=\"color: #7f7f7f; text-decoration-color: #7f7f7f\">                        </span>\n",
              "<span style=\"color: #7fbfbf; text-decoration-color: #7fbfbf\">                    </span>         <span style=\"color: #008000; text-decoration-color: #008000\">'/content/media/videos/content/480p15/DataRepresentation.mp4'</span> <span style=\"color: #7f7f7f; text-decoration-color: #7f7f7f\">                        </span>\n",
              "<span style=\"color: #7fbfbf; text-decoration-color: #7fbfbf\">                    </span>                                                                       <span style=\"color: #7f7f7f; text-decoration-color: #7f7f7f\">                        </span>\n",
              "</pre>\n"
            ]
          },
          "metadata": {}
        },
        {
          "output_type": "display_data",
          "data": {
            "text/plain": [
              "\u001b[2;36m                   \u001b[0m\u001b[2;36m \u001b[0m\u001b[32mINFO    \u001b[0m \u001b[1;33mRendered\u001b[0m DataRepresentation                                               \u001b]8;id=909414;file:///usr/local/lib/python3.12/dist-packages/manim/scene/scene.py\u001b\\\u001b[2mscene.py\u001b[0m\u001b]8;;\u001b\\\u001b[2m:\u001b[0m\u001b]8;id=390220;file:///usr/local/lib/python3.12/dist-packages/manim/scene/scene.py#255\u001b\\\u001b[2m255\u001b[0m\u001b]8;;\u001b\\\n",
              "\u001b[2;36m                    \u001b[0m         \u001b[1;33mPlayed\u001b[0m \u001b[32m2\u001b[0m \u001b[1;33manimations\u001b[0m                                                       \u001b[2m            \u001b[0m\n"
            ],
            "text/html": [
              "<pre style=\"white-space:pre;overflow-x:auto;line-height:normal;font-family:Menlo,'DejaVu Sans Mono',consolas,'Courier New',monospace\"><span style=\"color: #7fbfbf; text-decoration-color: #7fbfbf\">                    </span><span style=\"color: #008000; text-decoration-color: #008000\">INFO    </span> <span style=\"color: #808000; text-decoration-color: #808000; font-weight: bold\">Rendered</span> DataRepresentation                                               <a href=\"file:///usr/local/lib/python3.12/dist-packages/manim/scene/scene.py\" target=\"_blank\"><span style=\"color: #7f7f7f; text-decoration-color: #7f7f7f\">scene.py</span></a><span style=\"color: #7f7f7f; text-decoration-color: #7f7f7f\">:</span><a href=\"file:///usr/local/lib/python3.12/dist-packages/manim/scene/scene.py#255\" target=\"_blank\"><span style=\"color: #7f7f7f; text-decoration-color: #7f7f7f\">255</span></a>\n",
              "<span style=\"color: #7fbfbf; text-decoration-color: #7fbfbf\">                    </span>         <span style=\"color: #808000; text-decoration-color: #808000; font-weight: bold\">Played</span> <span style=\"color: #008000; text-decoration-color: #008000\">2</span> <span style=\"color: #808000; text-decoration-color: #808000; font-weight: bold\">animations</span>                                                       <span style=\"color: #7f7f7f; text-decoration-color: #7f7f7f\">            </span>\n",
              "</pre>\n"
            ]
          },
          "metadata": {}
        },
        {
          "output_type": "display_data",
          "data": {
            "text/plain": [
              "\u001b[2;36m                   \u001b[0m\u001b[2;36m \u001b[0m\u001b[32mINFO    \u001b[0m Previewed \u001b[1;33mFile\u001b[0m at:                                                     \u001b]8;id=783576;file:///usr/local/lib/python3.12/dist-packages/manim/utils/file_ops.py\u001b\\\u001b[2mfile_ops.py\u001b[0m\u001b]8;;\u001b\\\u001b[2m:\u001b[0m\u001b]8;id=289337;file:///usr/local/lib/python3.12/dist-packages/manim/utils/file_ops.py#237\u001b\\\u001b[2m237\u001b[0m\u001b]8;;\u001b\\\n",
              "\u001b[2;36m                    \u001b[0m         \u001b[32m'/content/media/videos/content/480p15/DataRepresentation.mp4'\u001b[0m          \u001b[2m               \u001b[0m\n"
            ],
            "text/html": [
              "<pre style=\"white-space:pre;overflow-x:auto;line-height:normal;font-family:Menlo,'DejaVu Sans Mono',consolas,'Courier New',monospace\"><span style=\"color: #7fbfbf; text-decoration-color: #7fbfbf\">                    </span><span style=\"color: #008000; text-decoration-color: #008000\">INFO    </span> Previewed <span style=\"color: #808000; text-decoration-color: #808000; font-weight: bold\">File</span> at:                                                     <a href=\"file:///usr/local/lib/python3.12/dist-packages/manim/utils/file_ops.py\" target=\"_blank\"><span style=\"color: #7f7f7f; text-decoration-color: #7f7f7f\">file_ops.py</span></a><span style=\"color: #7f7f7f; text-decoration-color: #7f7f7f\">:</span><a href=\"file:///usr/local/lib/python3.12/dist-packages/manim/utils/file_ops.py#237\" target=\"_blank\"><span style=\"color: #7f7f7f; text-decoration-color: #7f7f7f\">237</span></a>\n",
              "<span style=\"color: #7fbfbf; text-decoration-color: #7fbfbf\">                    </span>         <span style=\"color: #008000; text-decoration-color: #008000\">'/content/media/videos/content/480p15/DataRepresentation.mp4'</span>          <span style=\"color: #7f7f7f; text-decoration-color: #7f7f7f\">               </span>\n",
              "</pre>\n"
            ]
          },
          "metadata": {}
        },
        {
          "output_type": "display_data",
          "data": {
            "text/plain": [
              "<IPython.core.display.Video object>"
            ],
            "text/html": [
              "<video controls autoplay loop style=\"max-width: 60%;\"  >\n",
              " <source src=\"data:video/mp4;base64,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\" type=\"video/mp4\">\n",
              " Your browser does not support the video tag.\n",
              " </video>"
            ]
          },
          "metadata": {}
        }
      ]
    }
  ]
}